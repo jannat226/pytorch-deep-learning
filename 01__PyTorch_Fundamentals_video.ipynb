{
  "nbformat": 4,
  "nbformat_minor": 0,
  "metadata": {
    "colab": {
      "provenance": [],
      "gpuType": "T4",
      "authorship_tag": "ABX9TyNpT6T0tj63NQwKhUepxX3c",
      "include_colab_link": true
    },
    "kernelspec": {
      "name": "python3",
      "display_name": "Python 3"
    },
    "language_info": {
      "name": "python"
    }
  },
  "cells": [
    {
      "cell_type": "markdown",
      "metadata": {
        "id": "view-in-github",
        "colab_type": "text"
      },
      "source": [
        "<a href=\"https://colab.research.google.com/github/jannat226/pytorch-deep-learning/blob/main/01__PyTorch_Fundamentals_video.ipynb\" target=\"_parent\"><img src=\"https://colab.research.google.com/assets/colab-badge.svg\" alt=\"Open In Colab\"/></a>"
      ]
    },
    {
      "cell_type": "code",
      "execution_count": 28,
      "metadata": {
        "id": "cnZugMR57oGr"
      },
      "outputs": [],
      "source": [
        "#PyTorch workflow\n",
        "import torch\n",
        "from torch import nn\n",
        "import matplotlib.pyplot as plt\n",
        "\n"
      ]
    },
    {
      "cell_type": "code",
      "source": [
        "##Preparing and loading the data\n",
        "\n",
        "##ML 1-> Get data in numerical form and 2-> build a model to find pattern\n"
      ],
      "metadata": {
        "id": "il1_EDeM_JGv"
      },
      "execution_count": 29,
      "outputs": []
    },
    {
      "cell_type": "markdown",
      "source": [
        "We will use linear regression formula to make straight line with known parameters"
      ],
      "metadata": {
        "id": "7apatj0WAOoI"
      }
    },
    {
      "cell_type": "code",
      "source": [
        "#creating known parameters\n",
        "weights = 0.7\n",
        "bias = 0.3\n",
        "#create\n",
        "start = 0\n",
        "end = 1\n",
        "step = 0.02\n",
        "X = torch.arange(start,end,step).unsqueeze(dim=1)\n",
        "Y = weights * X + bias\n",
        "Y\n",
        "X[:10],Y[:10],len(X), len(Y)"
      ],
      "metadata": {
        "colab": {
          "base_uri": "https://localhost:8080/"
        },
        "id": "wNeDZZ_U_-BX",
        "outputId": "c34785de-eeac-44d2-e737-86a02c7a3261",
        "collapsed": true
      },
      "execution_count": 30,
      "outputs": [
        {
          "output_type": "execute_result",
          "data": {
            "text/plain": [
              "(tensor([[0.0000],\n",
              "         [0.0200],\n",
              "         [0.0400],\n",
              "         [0.0600],\n",
              "         [0.0800],\n",
              "         [0.1000],\n",
              "         [0.1200],\n",
              "         [0.1400],\n",
              "         [0.1600],\n",
              "         [0.1800]]),\n",
              " tensor([[0.3000],\n",
              "         [0.3140],\n",
              "         [0.3280],\n",
              "         [0.3420],\n",
              "         [0.3560],\n",
              "         [0.3700],\n",
              "         [0.3840],\n",
              "         [0.3980],\n",
              "         [0.4120],\n",
              "         [0.4260]]),\n",
              " 50,\n",
              " 50)"
            ]
          },
          "metadata": {},
          "execution_count": 30
        }
      ]
    },
    {
      "cell_type": "code",
      "source": [
        "#Splitting data in training and testing\n",
        "train_split = int(0.8 * len(X)) # 80% data\n",
        "train_split\n",
        "X_train,Y_train = X[:train_split], Y[:train_split]\n",
        "X_test, Y_test = X[train_split:], Y[train_split:]\n",
        "\n",
        "len(X_train),len(Y_test),len(X_test),len(Y_test)"
      ],
      "metadata": {
        "colab": {
          "base_uri": "https://localhost:8080/"
        },
        "id": "YHq_PWsCBxFk",
        "outputId": "5f2f513a-5382-4453-d3f1-44e9c3878941"
      },
      "execution_count": 31,
      "outputs": [
        {
          "output_type": "execute_result",
          "data": {
            "text/plain": [
              "(40, 10, 10, 10)"
            ]
          },
          "metadata": {},
          "execution_count": 31
        }
      ]
    },
    {
      "cell_type": "code",
      "source": [
        "X_train,Y_train"
      ],
      "metadata": {
        "colab": {
          "base_uri": "https://localhost:8080/"
        },
        "id": "4TmRoqCVDbBS",
        "outputId": "bdc202fa-47da-4900-a079-8140f2ae201b",
        "collapsed": true
      },
      "execution_count": 32,
      "outputs": [
        {
          "output_type": "execute_result",
          "data": {
            "text/plain": [
              "(tensor([[0.0000],\n",
              "         [0.0200],\n",
              "         [0.0400],\n",
              "         [0.0600],\n",
              "         [0.0800],\n",
              "         [0.1000],\n",
              "         [0.1200],\n",
              "         [0.1400],\n",
              "         [0.1600],\n",
              "         [0.1800],\n",
              "         [0.2000],\n",
              "         [0.2200],\n",
              "         [0.2400],\n",
              "         [0.2600],\n",
              "         [0.2800],\n",
              "         [0.3000],\n",
              "         [0.3200],\n",
              "         [0.3400],\n",
              "         [0.3600],\n",
              "         [0.3800],\n",
              "         [0.4000],\n",
              "         [0.4200],\n",
              "         [0.4400],\n",
              "         [0.4600],\n",
              "         [0.4800],\n",
              "         [0.5000],\n",
              "         [0.5200],\n",
              "         [0.5400],\n",
              "         [0.5600],\n",
              "         [0.5800],\n",
              "         [0.6000],\n",
              "         [0.6200],\n",
              "         [0.6400],\n",
              "         [0.6600],\n",
              "         [0.6800],\n",
              "         [0.7000],\n",
              "         [0.7200],\n",
              "         [0.7400],\n",
              "         [0.7600],\n",
              "         [0.7800]]),\n",
              " tensor([[0.3000],\n",
              "         [0.3140],\n",
              "         [0.3280],\n",
              "         [0.3420],\n",
              "         [0.3560],\n",
              "         [0.3700],\n",
              "         [0.3840],\n",
              "         [0.3980],\n",
              "         [0.4120],\n",
              "         [0.4260],\n",
              "         [0.4400],\n",
              "         [0.4540],\n",
              "         [0.4680],\n",
              "         [0.4820],\n",
              "         [0.4960],\n",
              "         [0.5100],\n",
              "         [0.5240],\n",
              "         [0.5380],\n",
              "         [0.5520],\n",
              "         [0.5660],\n",
              "         [0.5800],\n",
              "         [0.5940],\n",
              "         [0.6080],\n",
              "         [0.6220],\n",
              "         [0.6360],\n",
              "         [0.6500],\n",
              "         [0.6640],\n",
              "         [0.6780],\n",
              "         [0.6920],\n",
              "         [0.7060],\n",
              "         [0.7200],\n",
              "         [0.7340],\n",
              "         [0.7480],\n",
              "         [0.7620],\n",
              "         [0.7760],\n",
              "         [0.7900],\n",
              "         [0.8040],\n",
              "         [0.8180],\n",
              "         [0.8320],\n",
              "         [0.8460]]))"
            ]
          },
          "metadata": {},
          "execution_count": 32
        }
      ]
    },
    {
      "cell_type": "code",
      "source": [
        "def plot_predictions(train_data= X_train, train_label = Y_train, test_data = X_test, test_label = Y_test,predictions = None):\n",
        "  \"\"\"Plots training data , test data and compares predictions\"\"\"\n",
        "  plt.figure(figsize= (10,7))\n",
        "  plt.scatter(train_data,train_label,c=\"b\",s=4,label= \"training data\")\n",
        "\n",
        "  #plot test data\n",
        "  plt.scatter(test_data, test_label, c=\"g\", s=4 , label = \"test data\")\n",
        "  #are there predictions\n",
        "  if predictions is not None:\n",
        "    plt.scatter(test_data,predictions,c=\"r\",s=\"4\",label=\"predicted\")\n",
        "\n",
        "    #legend\n",
        "    plt.legend(prop={\"size\":4 })"
      ],
      "metadata": {
        "id": "Aa3fRsn-EBfc"
      },
      "execution_count": 33,
      "outputs": []
    },
    {
      "cell_type": "code",
      "source": [
        "plot_predictions()"
      ],
      "metadata": {
        "colab": {
          "base_uri": "https://localhost:8080/",
          "height": 599
        },
        "id": "XbKjXLrNFG_9",
        "outputId": "b3fc7139-ce32-4462-9c06-44f537060358",
        "collapsed": true
      },
      "execution_count": 34,
      "outputs": [
        {
          "output_type": "display_data",
          "data": {
            "text/plain": [
              "<Figure size 1000x700 with 1 Axes>"
            ],
            "image/png": "[encoded data removed]"
          },
          "metadata": {}
        }
      ]
    },
    {
      "cell_type": "code",
      "source": [],
      "metadata": {
        "id": "SEvbYRa9SSE-"
      },
      "execution_count": null,
      "outputs": []
    },
    {
      "cell_type": "code",
      "source": [
        "#building model using pytorch\n",
        "import torch\n",
        "import torch.nn as nn\n",
        "class LinearRegressionModel(nn.Module):#Almost everything in pytorch inherites from nn module\n",
        "  def __init__(self):\n",
        "    super().__init__()\n",
        "    self.weights = nn.Parameter(torch.randn(1,requires_grad= True, dtype = torch.float))\n",
        "    self.bias = nn.Parameter(torch.randn(1,dtype = float))\n",
        "\n",
        "  #Forward method to define  the computation in the model\n",
        "  def forward(self, x: torch.Tensor) -> torch.Tensor:#x is the input data in our case it is training data\n",
        "    return self.weights * x + self.bias# this is linear regression formula"
      ],
      "metadata": {
        "id": "uO7Bq4dyIC8T"
      },
      "execution_count": 35,
      "outputs": []
    },
    {
      "cell_type": "code",
      "source": [
        "#PyTorch model building essential\n",
        "#computational graph is similar to neural networks -> NN can be considered as computational graph"
      ],
      "metadata": {
        "id": "X4v-4CSySSlv"
      },
      "execution_count": null,
      "outputs": []
    },
    {
      "cell_type": "code",
      "source": [
        "##Checking the contents of our model\n",
        "##checking the parametersor what's  inside our model using .parameters\n",
        "\n",
        "#Creating a seed\n",
        "torch.manual_seed(2)\n",
        "#This ensures that your results are reproducible across different runs.\n",
        "\n",
        "\n",
        "#creating an instance of  the model (this is subclass of nn.Module)\n",
        "model_0 = LinearRegressionModel()\n",
        "list(model_0.parameters())"
      ],
      "metadata": {
        "colab": {
          "base_uri": "https://localhost:8080/"
        },
        "id": "Q-BK-IsDO9oD",
        "outputId": "b3957fcd-d9c6-4bf9-be36-d4664d5cd806"
      },
      "execution_count": 36,
      "outputs": [
        {
          "output_type": "execute_result",
          "data": {
            "text/plain": [
              "[Parameter containing:\n",
              " tensor([0.3923], requires_grad=True),\n",
              " Parameter containing:\n",
              " tensor([-0.2236], dtype=torch.float64, requires_grad=True)]"
            ]
          },
          "metadata": {},
          "execution_count": 36
        }
      ]
    },
    {
      "cell_type": "code",
      "source": [
        "#List named parameters\n",
        "model_0.state_dict()"
      ],
      "metadata": {
        "colab": {
          "base_uri": "https://localhost:8080/"
        },
        "id": "YZwA8EsxVt4I",
        "outputId": "6d8f78cb-9469-4d7c-f1cd-11fedf00277a"
      },
      "execution_count": 37,
      "outputs": [
        {
          "output_type": "execute_result",
          "data": {
            "text/plain": [
              "OrderedDict([('weights', tensor([0.3923])),\n",
              "             ('bias', tensor([-0.2236], dtype=torch.float64))])"
            ]
          },
          "metadata": {},
          "execution_count": 37
        }
      ]
    },
    {
      "cell_type": "code",
      "source": [
        "weights, bias"
      ],
      "metadata": {
        "colab": {
          "base_uri": "https://localhost:8080/"
        },
        "id": "zkgBtgIhWCVz",
        "outputId": "cbff7bac-b289-43c4-aa8e-77cfbcb741ef"
      },
      "execution_count": 40,
      "outputs": [
        {
          "output_type": "execute_result",
          "data": {
            "text/plain": [
              "(0.7, 0.3)"
            ]
          },
          "metadata": {},
          "execution_count": 40
        }
      ]
    },
    {
      "cell_type": "code",
      "source": [
        "# Turn model into evaluation mode\n",
        "model_0.eval()\n",
        "\n",
        "# Make predictions on the test data\n",
        "with torch.inference_mode():\n",
        "    y_preds = model_0(X_test)\n",
        "y_preds"
      ],
      "metadata": {
        "colab": {
          "base_uri": "https://localhost:8080/"
        },
        "id": "txS46zoMblJH",
        "outputId": "f83f0bec-444f-4684-ceaf-3507d869fb63"
      },
      "execution_count": 44,
      "outputs": [
        {
          "output_type": "execute_result",
          "data": {
            "text/plain": [
              "tensor([-0.3489, -0.6963,  0.1862, -0.4720,  0.0013], dtype=torch.float64)"
            ]
          },
          "metadata": {},
          "execution_count": 44
        }
      ]
    },
    {
      "cell_type": "code",
      "source": [
        "# # Use model.eval() to set the model in evaluation mode\n",
        "# model_0.eval()\n",
        "\n",
        "# # Sample data (e.g., X_test) for prediction\n",
        "# X_test = torch.randn(5)  # Random test data (you can replace it with real data)\n",
        "\n",
        "# # Use torch.no_grad() to make predictions without calculating gradients\n",
        "# with torch.no_grad():\n",
        "#     y_preds = model_0(X_test)  # Make predictions\n",
        "\n",
        "# # Print predictions\n",
        "# print(\"Predictions:\", y_preds)"
      ],
      "metadata": {
        "colab": {
          "base_uri": "https://localhost:8080/"
        },
        "id": "6Et4KZn6ayHh",
        "outputId": "3e372101-4531-45bd-d07a-4f989287b75a"
      },
      "execution_count": 42,
      "outputs": [
        {
          "output_type": "stream",
          "name": "stdout",
          "text": [
            "Predictions: tensor([-0.3489, -0.6963,  0.1862, -0.4720,  0.0013], dtype=torch.float64)\n"
          ]
        }
      ]
    },
    {
      "cell_type": "markdown",
      "source": [
        "##Training the model -> the model move from \"Unknown\" parameters to know ones\n",
        "**Note -> loss function can be called as cost functionor criterion in different areas\n",
        "\n",
        "**Loss function -> measure how wrong is the prediction of our model**\n",
        "**Optimizer -> Takes into account the loss of  a model and adjusts the model's parameters(e.g weights and bias)**\n",
        "\n",
        "\n",
        "**We need ⁉Training and testing loop**"
      ],
      "metadata": {
        "id": "nWcvXk3hdwR_"
      }
    },
    {
      "cell_type": "code",
      "source": [
        "#Train Model\n",
        "list(model_0.parameters())\n",
        "##Setting up loss and optimizer function"
      ],
      "metadata": {
        "colab": {
          "base_uri": "https://localhost:8080/"
        },
        "id": "-YQdGqJIZF26",
        "outputId": "344bc43f-eb3b-4560-845b-6cb4e6a125b6"
      },
      "execution_count": 46,
      "outputs": [
        {
          "output_type": "execute_result",
          "data": {
            "text/plain": [
              "[Parameter containing:\n",
              " tensor([0.3923], requires_grad=True),\n",
              " Parameter containing:\n",
              " tensor([-0.2236], dtype=torch.float64, requires_grad=True)]"
            ]
          },
          "metadata": {},
          "execution_count": 46
        }
      ]
    },
    {
      "cell_type": "code",
      "source": [
        "model_0.state_dict()"
      ],
      "metadata": {
        "colab": {
          "base_uri": "https://localhost:8080/"
        },
        "id": "ZDYfUet6e4bE",
        "outputId": "ba3fa99f-e98d-48c6-f3d9-10acb8906abe"
      },
      "execution_count": 47,
      "outputs": [
        {
          "output_type": "execute_result",
          "data": {
            "text/plain": [
              "OrderedDict([('weights', tensor([0.3923])),\n",
              "             ('bias', tensor([-0.2236], dtype=torch.float64))])"
            ]
          },
          "metadata": {},
          "execution_count": 47
        }
      ]
    },
    {
      "cell_type": "markdown",
      "source": [
        "**LOSS FUN AND OPTIMIZER**"
      ],
      "metadata": {
        "id": "YhKef1fLhhAq"
      }
    },
    {
      "cell_type": "code",
      "source": [
        "loss_fn = nn.L1Loss()\n",
        "\n",
        "#set up optimizer\n",
        "optimizer = torch.optim.SGD(params = model_0.parameters(),lr=0.1) #lr -> learning rate"
      ],
      "metadata": {
        "id": "qb2vD4hMf6rM"
      },
      "execution_count": 65,
      "outputs": []
    },
    {
      "cell_type": "code",
      "source": [
        "#Tracking of values\n",
        "epoch_count = []\n",
        "loss_values = []\n",
        "test_loss_values = []"
      ],
      "metadata": {
        "id": "M3IR_tgVpKIe"
      },
      "execution_count": 93,
      "outputs": []
    },
    {
      "cell_type": "markdown",
      "source": [
        "###Building the training and testing loop\n",
        "\n",
        "**0.Loop through data**\n",
        "**1.Forward PASS ->Forward propagation**\n",
        "**2.Calculate the loss **\n",
        "**3.Optimizer zero grad**\n",
        "**4.Loss backward**\n"
      ],
      "metadata": {
        "id": "6rZgY8dohmpV"
      }
    },
    {
      "cell_type": "code",
      "source": [
        "##An epoch is one loop through the data ..\n",
        "epochs = 100\n",
        "\n",
        "\n",
        "##Training\n",
        "# 0. Loop through the data\n",
        "for epoch in range(epochs):\n",
        "  #set the model  to training model\n",
        "  model_0.train()#set all parameter that require  gradient true\n",
        "  # 1. Forward pass\n",
        "  y_pred = model_0(X_train)\n",
        "  # 2. Calculate the loss\n",
        "  loss = loss_fn(y_pred,Y_train)\n",
        "  print(f\"Loss: {loss}\")\n",
        "  # 3.  Optimizer zero grad\n",
        "  optimizer.zero_grad()\n",
        "  # 4. Loss backward\n",
        "  loss.backward()\n",
        "  # 5. Optimizer step\n",
        "  optimizer.step()\n",
        "\n",
        "\n",
        "\n",
        "  ###Testing Loop\n",
        "  model_0.eval()\n",
        "  with torch.inference_mode():\n",
        "    test_pred = model_0(X_test)\n",
        "    test_loss = loss_fn(test_pred, Y_test)\n",
        "    print(f\"Test loss: {test_loss}\")\n",
        "  epoch_count.append(epoch)\n",
        "  loss_values.append(loss)\n",
        "  test_loss_values.append(test_loss)\n",
        "\n",
        "  if epoch % 100 == 0:\n",
        "      print(f\"Epoch: {epoch} | Train loss: {loss} | Test loss: {test_loss}\")\n",
        "\n",
        "model_0.eval()#turns off gradient tracking"
      ],
      "metadata": {
        "colab": {
          "base_uri": "https://localhost:8080/"
        },
        "collapsed": true,
        "id": "YE0MDxR0iSXw",
        "outputId": "d863f8b6-7029-4b4f-de38-885a72e1c4f1"
      },
      "execution_count": 109,
      "outputs": [
        {
          "output_type": "stream",
          "name": "stdout",
          "text": [
            "Loss: 0.056864664120984496\n",
            "Test loss: 0.7101744322213278\n",
            "Epoch: 0 | Train loss: 0.056864664120984496 | Test loss: 0.7101744322213278\n",
            "Loss: 0.05834532610661045\n",
            "Test loss: 0.6598867707190589\n",
            "Loss: 0.056864664120984496\n",
            "Test loss: 0.7101744322213278\n",
            "Loss: 0.05834532610661045\n",
            "Test loss: 0.6598867707190589\n",
            "Loss: 0.056864664120984496\n",
            "Test loss: 0.7101744322213278\n",
            "Loss: 0.05834532610661045\n",
            "Test loss: 0.6598867707190589\n",
            "Loss: 0.056864664120984496\n",
            "Test loss: 0.7101744322213278\n",
            "Loss: 0.05834532610661045\n",
            "Test loss: 0.6598867707190589\n",
            "Loss: 0.056864664120984496\n",
            "Test loss: 0.7101744322213278\n",
            "Loss: 0.05834532610661045\n",
            "Test loss: 0.6598867707190589\n",
            "Loss: 0.056864664120984496\n",
            "Test loss: 0.7101744322213278\n",
            "Loss: 0.05834532610661045\n",
            "Test loss: 0.6598867707190589\n",
            "Loss: 0.056864664120984496\n",
            "Test loss: 0.7101744322213278\n",
            "Loss: 0.05834532610661045\n",
            "Test loss: 0.6598867707190589\n",
            "Loss: 0.056864664120984496\n",
            "Test loss: 0.7101744322213278\n",
            "Loss: 0.05834532610661045\n",
            "Test loss: 0.6598867707190589\n",
            "Loss: 0.056864664120984496\n",
            "Test loss: 0.7101744322213278\n",
            "Loss: 0.05834532610661045\n",
            "Test loss: 0.6598867707190589\n",
            "Loss: 0.056864664120984496\n",
            "Test loss: 0.7101744322213278\n",
            "Loss: 0.05834532610661045\n",
            "Test loss: 0.6598867707190589\n",
            "Loss: 0.056864664120984496\n",
            "Test loss: 0.7101744322213278\n",
            "Loss: 0.05834532610661045\n",
            "Test loss: 0.6598867707190589\n",
            "Loss: 0.056864664120984496\n",
            "Test loss: 0.7101744322213278\n",
            "Loss: 0.05834532610661045\n",
            "Test loss: 0.6598867707190589\n",
            "Loss: 0.056864664120984496\n",
            "Test loss: 0.7101744322213278\n",
            "Loss: 0.05834532610661045\n",
            "Test loss: 0.6598867707190589\n",
            "Loss: 0.056864664120984496\n",
            "Test loss: 0.7101744322213278\n",
            "Loss: 0.05834532610661045\n",
            "Test loss: 0.6598867707190589\n",
            "Loss: 0.056864664120984496\n",
            "Test loss: 0.7101744322213278\n",
            "Loss: 0.05834532610661045\n",
            "Test loss: 0.6598867707190589\n",
            "Loss: 0.056864664120984496\n",
            "Test loss: 0.7101744322213278\n",
            "Loss: 0.05834532610661045\n",
            "Test loss: 0.6598867707190589\n",
            "Loss: 0.056864664120984496\n",
            "Test loss: 0.7101744322213278\n",
            "Loss: 0.05834532610661045\n",
            "Test loss: 0.6598867707190589\n",
            "Loss: 0.056864664120984496\n",
            "Test loss: 0.7101744322213278\n",
            "Loss: 0.05834532610661045\n",
            "Test loss: 0.6598867707190589\n",
            "Loss: 0.056864664120984496\n",
            "Test loss: 0.7101744322213278\n",
            "Loss: 0.05834532610661045\n",
            "Test loss: 0.6598867707190589\n",
            "Loss: 0.056864664120984496\n",
            "Test loss: 0.7101744322213278\n",
            "Loss: 0.05834532610661045\n",
            "Test loss: 0.6598867707190589\n",
            "Loss: 0.056864664120984496\n",
            "Test loss: 0.7101744322213278\n",
            "Loss: 0.05834532610661045\n",
            "Test loss: 0.6598867707190589\n",
            "Loss: 0.056864664120984496\n",
            "Test loss: 0.7101744322213278\n",
            "Loss: 0.05834532610661045\n",
            "Test loss: 0.6598867707190589\n",
            "Loss: 0.056864664120984496\n",
            "Test loss: 0.7101744322213278\n",
            "Loss: 0.05834532610661045\n",
            "Test loss: 0.6598867707190589\n",
            "Loss: 0.056864664120984496\n",
            "Test loss: 0.7101744322213278\n",
            "Loss: 0.05834532610661045\n",
            "Test loss: 0.6598867707190589\n",
            "Loss: 0.056864664120984496\n",
            "Test loss: 0.7101744322213278\n",
            "Loss: 0.05834532610661045\n",
            "Test loss: 0.6598867707190589\n",
            "Loss: 0.056864664120984496\n",
            "Test loss: 0.7101744322213278\n",
            "Loss: 0.05834532610661045\n",
            "Test loss: 0.6598867707190589\n",
            "Loss: 0.056864664120984496\n",
            "Test loss: 0.7101744322213278\n",
            "Loss: 0.05834532610661045\n",
            "Test loss: 0.6598867707190589\n",
            "Loss: 0.056864664120984496\n",
            "Test loss: 0.7101744322213278\n",
            "Loss: 0.05834532610661045\n",
            "Test loss: 0.6598867707190589\n",
            "Loss: 0.056864664120984496\n",
            "Test loss: 0.7101744322213278\n",
            "Loss: 0.05834532610661045\n",
            "Test loss: 0.6598867707190589\n",
            "Loss: 0.056864664120984496\n",
            "Test loss: 0.7101744322213278\n",
            "Loss: 0.05834532610661045\n",
            "Test loss: 0.6598867707190589\n",
            "Loss: 0.056864664120984496\n",
            "Test loss: 0.7101744322213278\n",
            "Loss: 0.05834532610661045\n",
            "Test loss: 0.6598867707190589\n",
            "Loss: 0.056864664120984496\n",
            "Test loss: 0.7101744322213278\n",
            "Loss: 0.05834532610661045\n",
            "Test loss: 0.6598867707190589\n",
            "Loss: 0.056864664120984496\n",
            "Test loss: 0.7101744322213278\n",
            "Loss: 0.05834532610661045\n",
            "Test loss: 0.6598867707190589\n",
            "Loss: 0.056864664120984496\n",
            "Test loss: 0.7101744322213278\n",
            "Loss: 0.05834532610661045\n",
            "Test loss: 0.6598867707190589\n",
            "Loss: 0.056864664120984496\n",
            "Test loss: 0.7101744322213278\n",
            "Loss: 0.05834532610661045\n",
            "Test loss: 0.6598867707190589\n",
            "Loss: 0.056864664120984496\n",
            "Test loss: 0.7101744322213278\n",
            "Loss: 0.05834532610661045\n",
            "Test loss: 0.6598867707190589\n",
            "Loss: 0.056864664120984496\n",
            "Test loss: 0.7101744322213278\n",
            "Loss: 0.05834532610661045\n",
            "Test loss: 0.6598867707190589\n",
            "Loss: 0.056864664120984496\n",
            "Test loss: 0.7101744322213278\n",
            "Loss: 0.05834532610661045\n",
            "Test loss: 0.6598867707190589\n",
            "Loss: 0.056864664120984496\n",
            "Test loss: 0.7101744322213278\n",
            "Loss: 0.05834532610661045\n",
            "Test loss: 0.6598867707190589\n",
            "Loss: 0.056864664120984496\n",
            "Test loss: 0.7101744322213278\n",
            "Loss: 0.05834532610661045\n",
            "Test loss: 0.6598867707190589\n",
            "Loss: 0.056864664120984496\n",
            "Test loss: 0.7101744322213278\n",
            "Loss: 0.05834532610661045\n",
            "Test loss: 0.6598867707190589\n",
            "Loss: 0.056864664120984496\n",
            "Test loss: 0.7101744322213278\n",
            "Loss: 0.05834532610661045\n",
            "Test loss: 0.6598867707190589\n",
            "Loss: 0.056864664120984496\n",
            "Test loss: 0.7101744322213278\n",
            "Loss: 0.05834532610661045\n",
            "Test loss: 0.6598867707190589\n",
            "Loss: 0.056864664120984496\n",
            "Test loss: 0.7101744322213278\n",
            "Loss: 0.05834532610661045\n",
            "Test loss: 0.6598867707190589\n",
            "Loss: 0.056864664120984496\n",
            "Test loss: 0.7101744322213278\n",
            "Loss: 0.05834532610661045\n",
            "Test loss: 0.6598867707190589\n",
            "Loss: 0.056864664120984496\n",
            "Test loss: 0.7101744322213278\n",
            "Loss: 0.05834532610661045\n",
            "Test loss: 0.6598867707190589\n",
            "Loss: 0.056864664120984496\n",
            "Test loss: 0.7101744322213278\n",
            "Loss: 0.05834532610661045\n",
            "Test loss: 0.6598867707190589\n",
            "Loss: 0.056864664120984496\n",
            "Test loss: 0.7101744322213278\n",
            "Loss: 0.05834532610661045\n",
            "Test loss: 0.6598867707190589\n",
            "Loss: 0.056864664120984496\n",
            "Test loss: 0.7101744322213278\n",
            "Loss: 0.05834532610661045\n",
            "Test loss: 0.6598867707190589\n",
            "Loss: 0.056864664120984496\n",
            "Test loss: 0.7101744322213278\n",
            "Loss: 0.05834532610661045\n",
            "Test loss: 0.6598867707190589\n"
          ]
        },
        {
          "output_type": "stream",
          "name": "stderr",
          "text": [
            "/usr/local/lib/python3.11/dist-packages/torch/nn/modules/loss.py:128: UserWarning: Using a target size (torch.Size([10, 1])) that is different to the input size (torch.Size([5])). This will likely lead to incorrect results due to broadcasting. Please ensure they have the same size.\n",
            "  return F.l1_loss(input, target, reduction=self.reduction)\n"
          ]
        },
        {
          "output_type": "execute_result",
          "data": {
            "text/plain": [
              "LinearRegressionModel()"
            ]
          },
          "metadata": {},
          "execution_count": 109
        }
      ]
    },
    {
      "cell_type": "code",
      "source": [
        "epoch_count,loss_values,test_loss_values"
      ],
      "metadata": {
        "colab": {
          "base_uri": "https://localhost:8080/"
        },
        "collapsed": true,
        "id": "R8c9nKw6pmZ3",
        "outputId": "179fd03b-0548-4df4-c4a4-43f38ceb3529"
      },
      "execution_count": 110,
      "outputs": [
        {
          "output_type": "execute_result",
          "data": {
            "text/plain": [
              "([0,\n",
              "  1,\n",
              "  2,\n",
              "  3,\n",
              "  4,\n",
              "  5,\n",
              "  6,\n",
              "  7,\n",
              "  8,\n",
              "  9,\n",
              "  10,\n",
              "  11,\n",
              "  12,\n",
              "  13,\n",
              "  14,\n",
              "  15,\n",
              "  16,\n",
              "  17,\n",
              "  18,\n",
              "  19,\n",
              "  20,\n",
              "  21,\n",
              "  22,\n",
              "  23,\n",
              "  24,\n",
              "  25,\n",
              "  26,\n",
              "  27,\n",
              "  28,\n",
              "  29,\n",
              "  30,\n",
              "  31,\n",
              "  32,\n",
              "  33,\n",
              "  34,\n",
              "  35,\n",
              "  36,\n",
              "  37,\n",
              "  38,\n",
              "  39,\n",
              "  40,\n",
              "  41,\n",
              "  42,\n",
              "  43,\n",
              "  44,\n",
              "  45,\n",
              "  46,\n",
              "  47,\n",
              "  48,\n",
              "  49,\n",
              "  50,\n",
              "  51,\n",
              "  52,\n",
              "  53,\n",
              "  54,\n",
              "  55,\n",
              "  56,\n",
              "  57,\n",
              "  58,\n",
              "  59,\n",
              "  60,\n",
              "  61,\n",
              "  62,\n",
              "  63,\n",
              "  64,\n",
              "  65,\n",
              "  66,\n",
              "  67,\n",
              "  68,\n",
              "  69,\n",
              "  70,\n",
              "  71,\n",
              "  72,\n",
              "  73,\n",
              "  74,\n",
              "  75,\n",
              "  76,\n",
              "  77,\n",
              "  78,\n",
              "  79,\n",
              "  80,\n",
              "  81,\n",
              "  82,\n",
              "  83,\n",
              "  84,\n",
              "  85,\n",
              "  86,\n",
              "  87,\n",
              "  88,\n",
              "  89,\n",
              "  90,\n",
              "  91,\n",
              "  92,\n",
              "  93,\n",
              "  94,\n",
              "  95,\n",
              "  96,\n",
              "  97,\n",
              "  98,\n",
              "  99,\n",
              "  0,\n",
              "  1,\n",
              "  2,\n",
              "  3,\n",
              "  4,\n",
              "  5,\n",
              "  6,\n",
              "  7,\n",
              "  8,\n",
              "  9,\n",
              "  10,\n",
              "  11,\n",
              "  12,\n",
              "  13,\n",
              "  14,\n",
              "  15,\n",
              "  16,\n",
              "  17,\n",
              "  18,\n",
              "  19,\n",
              "  20,\n",
              "  21,\n",
              "  22,\n",
              "  23,\n",
              "  24,\n",
              "  25,\n",
              "  26,\n",
              "  27,\n",
              "  28,\n",
              "  29,\n",
              "  30,\n",
              "  31,\n",
              "  32,\n",
              "  33,\n",
              "  34,\n",
              "  35,\n",
              "  36,\n",
              "  37,\n",
              "  38,\n",
              "  39,\n",
              "  40,\n",
              "  41,\n",
              "  42,\n",
              "  43,\n",
              "  44,\n",
              "  45,\n",
              "  46,\n",
              "  47,\n",
              "  48,\n",
              "  49,\n",
              "  50,\n",
              "  51,\n",
              "  52,\n",
              "  53,\n",
              "  54,\n",
              "  55,\n",
              "  56,\n",
              "  57,\n",
              "  58,\n",
              "  59,\n",
              "  60,\n",
              "  61,\n",
              "  62,\n",
              "  63,\n",
              "  64,\n",
              "  65,\n",
              "  66,\n",
              "  67,\n",
              "  68,\n",
              "  69,\n",
              "  70,\n",
              "  71,\n",
              "  72,\n",
              "  73,\n",
              "  74,\n",
              "  75,\n",
              "  76,\n",
              "  77,\n",
              "  78,\n",
              "  79,\n",
              "  80,\n",
              "  81,\n",
              "  82,\n",
              "  83,\n",
              "  84,\n",
              "  85,\n",
              "  86,\n",
              "  87,\n",
              "  88,\n",
              "  89,\n",
              "  90,\n",
              "  91,\n",
              "  92,\n",
              "  93,\n",
              "  94,\n",
              "  95,\n",
              "  96,\n",
              "  97,\n",
              "  98,\n",
              "  99],\n",
              " [tensor(0.0569, dtype=torch.float64, grad_fn=<MeanBackward0>),\n",
              "  tensor(0.0583, dtype=torch.float64, grad_fn=<MeanBackward0>),\n",
              "  tensor(0.0569, dtype=torch.float64, grad_fn=<MeanBackward0>),\n",
              "  tensor(0.0583, dtype=torch.float64, grad_fn=<MeanBackward0>),\n",
              "  tensor(0.0569, dtype=torch.float64, grad_fn=<MeanBackward0>),\n",
              "  tensor(0.0583, dtype=torch.float64, grad_fn=<MeanBackward0>),\n",
              "  tensor(0.0569, dtype=torch.float64, grad_fn=<MeanBackward0>),\n",
              "  tensor(0.0583, dtype=torch.float64, grad_fn=<MeanBackward0>),\n",
              "  tensor(0.0569, dtype=torch.float64, grad_fn=<MeanBackward0>),\n",
              "  tensor(0.0583, dtype=torch.float64, grad_fn=<MeanBackward0>),\n",
              "  tensor(0.0569, dtype=torch.float64, grad_fn=<MeanBackward0>),\n",
              "  tensor(0.0583, dtype=torch.float64, grad_fn=<MeanBackward0>),\n",
              "  tensor(0.0569, dtype=torch.float64, grad_fn=<MeanBackward0>),\n",
              "  tensor(0.0583, dtype=torch.float64, grad_fn=<MeanBackward0>),\n",
              "  tensor(0.0569, dtype=torch.float64, grad_fn=<MeanBackward0>),\n",
              "  tensor(0.0583, dtype=torch.float64, grad_fn=<MeanBackward0>),\n",
              "  tensor(0.0569, dtype=torch.float64, grad_fn=<MeanBackward0>),\n",
              "  tensor(0.0583, dtype=torch.float64, grad_fn=<MeanBackward0>),\n",
              "  tensor(0.0569, dtype=torch.float64, grad_fn=<MeanBackward0>),\n",
              "  tensor(0.0583, dtype=torch.float64, grad_fn=<MeanBackward0>),\n",
              "  tensor(0.0569, dtype=torch.float64, grad_fn=<MeanBackward0>),\n",
              "  tensor(0.0583, dtype=torch.float64, grad_fn=<MeanBackward0>),\n",
              "  tensor(0.0569, dtype=torch.float64, grad_fn=<MeanBackward0>),\n",
              "  tensor(0.0583, dtype=torch.float64, grad_fn=<MeanBackward0>),\n",
              "  tensor(0.0569, dtype=torch.float64, grad_fn=<MeanBackward0>),\n",
              "  tensor(0.0583, dtype=torch.float64, grad_fn=<MeanBackward0>),\n",
              "  tensor(0.0569, dtype=torch.float64, grad_fn=<MeanBackward0>),\n",
              "  tensor(0.0583, dtype=torch.float64, grad_fn=<MeanBackward0>),\n",
              "  tensor(0.0569, dtype=torch.float64, grad_fn=<MeanBackward0>),\n",
              "  tensor(0.0583, dtype=torch.float64, grad_fn=<MeanBackward0>),\n",
              "  tensor(0.0569, dtype=torch.float64, grad_fn=<MeanBackward0>),\n",
              "  tensor(0.0583, dtype=torch.float64, grad_fn=<MeanBackward0>),\n",
              "  tensor(0.0569, dtype=torch.float64, grad_fn=<MeanBackward0>),\n",
              "  tensor(0.0583, dtype=torch.float64, grad_fn=<MeanBackward0>),\n",
              "  tensor(0.0569, dtype=torch.float64, grad_fn=<MeanBackward0>),\n",
              "  tensor(0.0583, dtype=torch.float64, grad_fn=<MeanBackward0>),\n",
              "  tensor(0.0569, dtype=torch.float64, grad_fn=<MeanBackward0>),\n",
              "  tensor(0.0583, dtype=torch.float64, grad_fn=<MeanBackward0>),\n",
              "  tensor(0.0569, dtype=torch.float64, grad_fn=<MeanBackward0>),\n",
              "  tensor(0.0583, dtype=torch.float64, grad_fn=<MeanBackward0>),\n",
              "  tensor(0.0569, dtype=torch.float64, grad_fn=<MeanBackward0>),\n",
              "  tensor(0.0583, dtype=torch.float64, grad_fn=<MeanBackward0>),\n",
              "  tensor(0.0569, dtype=torch.float64, grad_fn=<MeanBackward0>),\n",
              "  tensor(0.0583, dtype=torch.float64, grad_fn=<MeanBackward0>),\n",
              "  tensor(0.0569, dtype=torch.float64, grad_fn=<MeanBackward0>),\n",
              "  tensor(0.0583, dtype=torch.float64, grad_fn=<MeanBackward0>),\n",
              "  tensor(0.0569, dtype=torch.float64, grad_fn=<MeanBackward0>),\n",
              "  tensor(0.0583, dtype=torch.float64, grad_fn=<MeanBackward0>),\n",
              "  tensor(0.0569, dtype=torch.float64, grad_fn=<MeanBackward0>),\n",
              "  tensor(0.0583, dtype=torch.float64, grad_fn=<MeanBackward0>),\n",
              "  tensor(0.0569, dtype=torch.float64, grad_fn=<MeanBackward0>),\n",
              "  tensor(0.0583, dtype=torch.float64, grad_fn=<MeanBackward0>),\n",
              "  tensor(0.0569, dtype=torch.float64, grad_fn=<MeanBackward0>),\n",
              "  tensor(0.0583, dtype=torch.float64, grad_fn=<MeanBackward0>),\n",
              "  tensor(0.0569, dtype=torch.float64, grad_fn=<MeanBackward0>),\n",
              "  tensor(0.0583, dtype=torch.float64, grad_fn=<MeanBackward0>),\n",
              "  tensor(0.0569, dtype=torch.float64, grad_fn=<MeanBackward0>),\n",
              "  tensor(0.0583, dtype=torch.float64, grad_fn=<MeanBackward0>),\n",
              "  tensor(0.0569, dtype=torch.float64, grad_fn=<MeanBackward0>),\n",
              "  tensor(0.0583, dtype=torch.float64, grad_fn=<MeanBackward0>),\n",
              "  tensor(0.0569, dtype=torch.float64, grad_fn=<MeanBackward0>),\n",
              "  tensor(0.0583, dtype=torch.float64, grad_fn=<MeanBackward0>),\n",
              "  tensor(0.0569, dtype=torch.float64, grad_fn=<MeanBackward0>),\n",
              "  tensor(0.0583, dtype=torch.float64, grad_fn=<MeanBackward0>),\n",
              "  tensor(0.0569, dtype=torch.float64, grad_fn=<MeanBackward0>),\n",
              "  tensor(0.0583, dtype=torch.float64, grad_fn=<MeanBackward0>),\n",
              "  tensor(0.0569, dtype=torch.float64, grad_fn=<MeanBackward0>),\n",
              "  tensor(0.0583, dtype=torch.float64, grad_fn=<MeanBackward0>),\n",
              "  tensor(0.0569, dtype=torch.float64, grad_fn=<MeanBackward0>),\n",
              "  tensor(0.0583, dtype=torch.float64, grad_fn=<MeanBackward0>),\n",
              "  tensor(0.0569, dtype=torch.float64, grad_fn=<MeanBackward0>),\n",
              "  tensor(0.0583, dtype=torch.float64, grad_fn=<MeanBackward0>),\n",
              "  tensor(0.0569, dtype=torch.float64, grad_fn=<MeanBackward0>),\n",
              "  tensor(0.0583, dtype=torch.float64, grad_fn=<MeanBackward0>),\n",
              "  tensor(0.0569, dtype=torch.float64, grad_fn=<MeanBackward0>),\n",
              "  tensor(0.0583, dtype=torch.float64, grad_fn=<MeanBackward0>),\n",
              "  tensor(0.0569, dtype=torch.float64, grad_fn=<MeanBackward0>),\n",
              "  tensor(0.0583, dtype=torch.float64, grad_fn=<MeanBackward0>),\n",
              "  tensor(0.0569, dtype=torch.float64, grad_fn=<MeanBackward0>),\n",
              "  tensor(0.0583, dtype=torch.float64, grad_fn=<MeanBackward0>),\n",
              "  tensor(0.0569, dtype=torch.float64, grad_fn=<MeanBackward0>),\n",
              "  tensor(0.0583, dtype=torch.float64, grad_fn=<MeanBackward0>),\n",
              "  tensor(0.0569, dtype=torch.float64, grad_fn=<MeanBackward0>),\n",
              "  tensor(0.0583, dtype=torch.float64, grad_fn=<MeanBackward0>),\n",
              "  tensor(0.0569, dtype=torch.float64, grad_fn=<MeanBackward0>),\n",
              "  tensor(0.0583, dtype=torch.float64, grad_fn=<MeanBackward0>),\n",
              "  tensor(0.0569, dtype=torch.float64, grad_fn=<MeanBackward0>),\n",
              "  tensor(0.0583, dtype=torch.float64, grad_fn=<MeanBackward0>),\n",
              "  tensor(0.0569, dtype=torch.float64, grad_fn=<MeanBackward0>),\n",
              "  tensor(0.0583, dtype=torch.float64, grad_fn=<MeanBackward0>),\n",
              "  tensor(0.0569, dtype=torch.float64, grad_fn=<MeanBackward0>),\n",
              "  tensor(0.0583, dtype=torch.float64, grad_fn=<MeanBackward0>),\n",
              "  tensor(0.0569, dtype=torch.float64, grad_fn=<MeanBackward0>),\n",
              "  tensor(0.0583, dtype=torch.float64, grad_fn=<MeanBackward0>),\n",
              "  tensor(0.0569, dtype=torch.float64, grad_fn=<MeanBackward0>),\n",
              "  tensor(0.0583, dtype=torch.float64, grad_fn=<MeanBackward0>),\n",
              "  tensor(0.0569, dtype=torch.float64, grad_fn=<MeanBackward0>),\n",
              "  tensor(0.0583, dtype=torch.float64, grad_fn=<MeanBackward0>),\n",
              "  tensor(0.0569, dtype=torch.float64, grad_fn=<MeanBackward0>),\n",
              "  tensor(0.0583, dtype=torch.float64, grad_fn=<MeanBackward0>),\n",
              "  tensor(0.0569, dtype=torch.float64, grad_fn=<MeanBackward0>),\n",
              "  tensor(0.0583, dtype=torch.float64, grad_fn=<MeanBackward0>),\n",
              "  tensor(0.0569, dtype=torch.float64, grad_fn=<MeanBackward0>),\n",
              "  tensor(0.0583, dtype=torch.float64, grad_fn=<MeanBackward0>),\n",
              "  tensor(0.0569, dtype=torch.float64, grad_fn=<MeanBackward0>),\n",
              "  tensor(0.0583, dtype=torch.float64, grad_fn=<MeanBackward0>),\n",
              "  tensor(0.0569, dtype=torch.float64, grad_fn=<MeanBackward0>),\n",
              "  tensor(0.0583, dtype=torch.float64, grad_fn=<MeanBackward0>),\n",
              "  tensor(0.0569, dtype=torch.float64, grad_fn=<MeanBackward0>),\n",
              "  tensor(0.0583, dtype=torch.float64, grad_fn=<MeanBackward0>),\n",
              "  tensor(0.0569, dtype=torch.float64, grad_fn=<MeanBackward0>),\n",
              "  tensor(0.0583, dtype=torch.float64, grad_fn=<MeanBackward0>),\n",
              "  tensor(0.0569, dtype=torch.float64, grad_fn=<MeanBackward0>),\n",
              "  tensor(0.0583, dtype=torch.float64, grad_fn=<MeanBackward0>),\n",
              "  tensor(0.0569, dtype=torch.float64, grad_fn=<MeanBackward0>),\n",
              "  tensor(0.0583, dtype=torch.float64, grad_fn=<MeanBackward0>),\n",
              "  tensor(0.0569, dtype=torch.float64, grad_fn=<MeanBackward0>),\n",
              "  tensor(0.0583, dtype=torch.float64, grad_fn=<MeanBackward0>),\n",
              "  tensor(0.0569, dtype=torch.float64, grad_fn=<MeanBackward0>),\n",
              "  tensor(0.0583, dtype=torch.float64, grad_fn=<MeanBackward0>),\n",
              "  tensor(0.0569, dtype=torch.float64, grad_fn=<MeanBackward0>),\n",
              "  tensor(0.0583, dtype=torch.float64, grad_fn=<MeanBackward0>),\n",
              "  tensor(0.0569, dtype=torch.float64, grad_fn=<MeanBackward0>),\n",
              "  tensor(0.0583, dtype=torch.float64, grad_fn=<MeanBackward0>),\n",
              "  tensor(0.0569, dtype=torch.float64, grad_fn=<MeanBackward0>),\n",
              "  tensor(0.0583, dtype=torch.float64, grad_fn=<MeanBackward0>),\n",
              "  tensor(0.0569, dtype=torch.float64, grad_fn=<MeanBackward0>),\n",
              "  tensor(0.0583, dtype=torch.float64, grad_fn=<MeanBackward0>),\n",
              "  tensor(0.0569, dtype=torch.float64, grad_fn=<MeanBackward0>),\n",
              "  tensor(0.0583, dtype=torch.float64, grad_fn=<MeanBackward0>),\n",
              "  tensor(0.0569, dtype=torch.float64, grad_fn=<MeanBackward0>),\n",
              "  tensor(0.0583, dtype=torch.float64, grad_fn=<MeanBackward0>),\n",
              "  tensor(0.0569, dtype=torch.float64, grad_fn=<MeanBackward0>),\n",
              "  tensor(0.0583, dtype=torch.float64, grad_fn=<MeanBackward0>),\n",
              "  tensor(0.0569, dtype=torch.float64, grad_fn=<MeanBackward0>),\n",
              "  tensor(0.0583, dtype=torch.float64, grad_fn=<MeanBackward0>),\n",
              "  tensor(0.0569, dtype=torch.float64, grad_fn=<MeanBackward0>),\n",
              "  tensor(0.0583, dtype=torch.float64, grad_fn=<MeanBackward0>),\n",
              "  tensor(0.0569, dtype=torch.float64, grad_fn=<MeanBackward0>),\n",
              "  tensor(0.0583, dtype=torch.float64, grad_fn=<MeanBackward0>),\n",
              "  tensor(0.0569, dtype=torch.float64, grad_fn=<MeanBackward0>),\n",
              "  tensor(0.0583, dtype=torch.float64, grad_fn=<MeanBackward0>),\n",
              "  tensor(0.0569, dtype=torch.float64, grad_fn=<MeanBackward0>),\n",
              "  tensor(0.0583, dtype=torch.float64, grad_fn=<MeanBackward0>),\n",
              "  tensor(0.0569, dtype=torch.float64, grad_fn=<MeanBackward0>),\n",
              "  tensor(0.0583, dtype=torch.float64, grad_fn=<MeanBackward0>),\n",
              "  tensor(0.0569, dtype=torch.float64, grad_fn=<MeanBackward0>),\n",
              "  tensor(0.0583, dtype=torch.float64, grad_fn=<MeanBackward0>),\n",
              "  tensor(0.0569, dtype=torch.float64, grad_fn=<MeanBackward0>),\n",
              "  tensor(0.0583, dtype=torch.float64, grad_fn=<MeanBackward0>),\n",
              "  tensor(0.0569, dtype=torch.float64, grad_fn=<MeanBackward0>),\n",
              "  tensor(0.0583, dtype=torch.float64, grad_fn=<MeanBackward0>),\n",
              "  tensor(0.0569, dtype=torch.float64, grad_fn=<MeanBackward0>),\n",
              "  tensor(0.0583, dtype=torch.float64, grad_fn=<MeanBackward0>),\n",
              "  tensor(0.0569, dtype=torch.float64, grad_fn=<MeanBackward0>),\n",
              "  tensor(0.0583, dtype=torch.float64, grad_fn=<MeanBackward0>),\n",
              "  tensor(0.0569, dtype=torch.float64, grad_fn=<MeanBackward0>),\n",
              "  tensor(0.0583, dtype=torch.float64, grad_fn=<MeanBackward0>),\n",
              "  tensor(0.0569, dtype=torch.float64, grad_fn=<MeanBackward0>),\n",
              "  tensor(0.0583, dtype=torch.float64, grad_fn=<MeanBackward0>),\n",
              "  tensor(0.0569, dtype=torch.float64, grad_fn=<MeanBackward0>),\n",
              "  tensor(0.0583, dtype=torch.float64, grad_fn=<MeanBackward0>),\n",
              "  tensor(0.0569, dtype=torch.float64, grad_fn=<MeanBackward0>),\n",
              "  tensor(0.0583, dtype=torch.float64, grad_fn=<MeanBackward0>),\n",
              "  tensor(0.0569, dtype=torch.float64, grad_fn=<MeanBackward0>),\n",
              "  tensor(0.0583, dtype=torch.float64, grad_fn=<MeanBackward0>),\n",
              "  tensor(0.0569, dtype=torch.float64, grad_fn=<MeanBackward0>),\n",
              "  tensor(0.0583, dtype=torch.float64, grad_fn=<MeanBackward0>),\n",
              "  tensor(0.0569, dtype=torch.float64, grad_fn=<MeanBackward0>),\n",
              "  tensor(0.0583, dtype=torch.float64, grad_fn=<MeanBackward0>),\n",
              "  tensor(0.0569, dtype=torch.float64, grad_fn=<MeanBackward0>),\n",
              "  tensor(0.0583, dtype=torch.float64, grad_fn=<MeanBackward0>),\n",
              "  tensor(0.0569, dtype=torch.float64, grad_fn=<MeanBackward0>),\n",
              "  tensor(0.0583, dtype=torch.float64, grad_fn=<MeanBackward0>),\n",
              "  tensor(0.0569, dtype=torch.float64, grad_fn=<MeanBackward0>),\n",
              "  tensor(0.0583, dtype=torch.float64, grad_fn=<MeanBackward0>),\n",
              "  tensor(0.0569, dtype=torch.float64, grad_fn=<MeanBackward0>),\n",
              "  tensor(0.0583, dtype=torch.float64, grad_fn=<MeanBackward0>),\n",
              "  tensor(0.0569, dtype=torch.float64, grad_fn=<MeanBackward0>),\n",
              "  tensor(0.0583, dtype=torch.float64, grad_fn=<MeanBackward0>),\n",
              "  tensor(0.0569, dtype=torch.float64, grad_fn=<MeanBackward0>),\n",
              "  tensor(0.0583, dtype=torch.float64, grad_fn=<MeanBackward0>),\n",
              "  tensor(0.0569, dtype=torch.float64, grad_fn=<MeanBackward0>),\n",
              "  tensor(0.0583, dtype=torch.float64, grad_fn=<MeanBackward0>),\n",
              "  tensor(0.0569, dtype=torch.float64, grad_fn=<MeanBackward0>),\n",
              "  tensor(0.0583, dtype=torch.float64, grad_fn=<MeanBackward0>),\n",
              "  tensor(0.0569, dtype=torch.float64, grad_fn=<MeanBackward0>),\n",
              "  tensor(0.0583, dtype=torch.float64, grad_fn=<MeanBackward0>),\n",
              "  tensor(0.0569, dtype=torch.float64, grad_fn=<MeanBackward0>),\n",
              "  tensor(0.0583, dtype=torch.float64, grad_fn=<MeanBackward0>),\n",
              "  tensor(0.0569, dtype=torch.float64, grad_fn=<MeanBackward0>),\n",
              "  tensor(0.0583, dtype=torch.float64, grad_fn=<MeanBackward0>),\n",
              "  tensor(0.0569, dtype=torch.float64, grad_fn=<MeanBackward0>),\n",
              "  tensor(0.0583, dtype=torch.float64, grad_fn=<MeanBackward0>),\n",
              "  tensor(0.0569, dtype=torch.float64, grad_fn=<MeanBackward0>),\n",
              "  tensor(0.0583, dtype=torch.float64, grad_fn=<MeanBackward0>),\n",
              "  tensor(0.0569, dtype=torch.float64, grad_fn=<MeanBackward0>),\n",
              "  tensor(0.0583, dtype=torch.float64, grad_fn=<MeanBackward0>),\n",
              "  tensor(0.0569, dtype=torch.float64, grad_fn=<MeanBackward0>),\n",
              "  tensor(0.0583, dtype=torch.float64, grad_fn=<MeanBackward0>)],\n",
              " [tensor(0.7102, dtype=torch.float64),\n",
              "  tensor(0.6599, dtype=torch.float64),\n",
              "  tensor(0.7102, dtype=torch.float64),\n",
              "  tensor(0.6599, dtype=torch.float64),\n",
              "  tensor(0.7102, dtype=torch.float64),\n",
              "  tensor(0.6599, dtype=torch.float64),\n",
              "  tensor(0.7102, dtype=torch.float64),\n",
              "  tensor(0.6599, dtype=torch.float64),\n",
              "  tensor(0.7102, dtype=torch.float64),\n",
              "  tensor(0.6599, dtype=torch.float64),\n",
              "  tensor(0.7102, dtype=torch.float64),\n",
              "  tensor(0.6599, dtype=torch.float64),\n",
              "  tensor(0.7102, dtype=torch.float64),\n",
              "  tensor(0.6599, dtype=torch.float64),\n",
              "  tensor(0.7102, dtype=torch.float64),\n",
              "  tensor(0.6599, dtype=torch.float64),\n",
              "  tensor(0.7102, dtype=torch.float64),\n",
              "  tensor(0.6599, dtype=torch.float64),\n",
              "  tensor(0.7102, dtype=torch.float64),\n",
              "  tensor(0.6599, dtype=torch.float64),\n",
              "  tensor(0.7102, dtype=torch.float64),\n",
              "  tensor(0.6599, dtype=torch.float64),\n",
              "  tensor(0.7102, dtype=torch.float64),\n",
              "  tensor(0.6599, dtype=torch.float64),\n",
              "  tensor(0.7102, dtype=torch.float64),\n",
              "  tensor(0.6599, dtype=torch.float64),\n",
              "  tensor(0.7102, dtype=torch.float64),\n",
              "  tensor(0.6599, dtype=torch.float64),\n",
              "  tensor(0.7102, dtype=torch.float64),\n",
              "  tensor(0.6599, dtype=torch.float64),\n",
              "  tensor(0.7102, dtype=torch.float64),\n",
              "  tensor(0.6599, dtype=torch.float64),\n",
              "  tensor(0.7102, dtype=torch.float64),\n",
              "  tensor(0.6599, dtype=torch.float64),\n",
              "  tensor(0.7102, dtype=torch.float64),\n",
              "  tensor(0.6599, dtype=torch.float64),\n",
              "  tensor(0.7102, dtype=torch.float64),\n",
              "  tensor(0.6599, dtype=torch.float64),\n",
              "  tensor(0.7102, dtype=torch.float64),\n",
              "  tensor(0.6599, dtype=torch.float64),\n",
              "  tensor(0.7102, dtype=torch.float64),\n",
              "  tensor(0.6599, dtype=torch.float64),\n",
              "  tensor(0.7102, dtype=torch.float64),\n",
              "  tensor(0.6599, dtype=torch.float64),\n",
              "  tensor(0.7102, dtype=torch.float64),\n",
              "  tensor(0.6599, dtype=torch.float64),\n",
              "  tensor(0.7102, dtype=torch.float64),\n",
              "  tensor(0.6599, dtype=torch.float64),\n",
              "  tensor(0.7102, dtype=torch.float64),\n",
              "  tensor(0.6599, dtype=torch.float64),\n",
              "  tensor(0.7102, dtype=torch.float64),\n",
              "  tensor(0.6599, dtype=torch.float64),\n",
              "  tensor(0.7102, dtype=torch.float64),\n",
              "  tensor(0.6599, dtype=torch.float64),\n",
              "  tensor(0.7102, dtype=torch.float64),\n",
              "  tensor(0.6599, dtype=torch.float64),\n",
              "  tensor(0.7102, dtype=torch.float64),\n",
              "  tensor(0.6599, dtype=torch.float64),\n",
              "  tensor(0.7102, dtype=torch.float64),\n",
              "  tensor(0.6599, dtype=torch.float64),\n",
              "  tensor(0.7102, dtype=torch.float64),\n",
              "  tensor(0.6599, dtype=torch.float64),\n",
              "  tensor(0.7102, dtype=torch.float64),\n",
              "  tensor(0.6599, dtype=torch.float64),\n",
              "  tensor(0.7102, dtype=torch.float64),\n",
              "  tensor(0.6599, dtype=torch.float64),\n",
              "  tensor(0.7102, dtype=torch.float64),\n",
              "  tensor(0.6599, dtype=torch.float64),\n",
              "  tensor(0.7102, dtype=torch.float64),\n",
              "  tensor(0.6599, dtype=torch.float64),\n",
              "  tensor(0.7102, dtype=torch.float64),\n",
              "  tensor(0.6599, dtype=torch.float64),\n",
              "  tensor(0.7102, dtype=torch.float64),\n",
              "  tensor(0.6599, dtype=torch.float64),\n",
              "  tensor(0.7102, dtype=torch.float64),\n",
              "  tensor(0.6599, dtype=torch.float64),\n",
              "  tensor(0.7102, dtype=torch.float64),\n",
              "  tensor(0.6599, dtype=torch.float64),\n",
              "  tensor(0.7102, dtype=torch.float64),\n",
              "  tensor(0.6599, dtype=torch.float64),\n",
              "  tensor(0.7102, dtype=torch.float64),\n",
              "  tensor(0.6599, dtype=torch.float64),\n",
              "  tensor(0.7102, dtype=torch.float64),\n",
              "  tensor(0.6599, dtype=torch.float64),\n",
              "  tensor(0.7102, dtype=torch.float64),\n",
              "  tensor(0.6599, dtype=torch.float64),\n",
              "  tensor(0.7102, dtype=torch.float64),\n",
              "  tensor(0.6599, dtype=torch.float64),\n",
              "  tensor(0.7102, dtype=torch.float64),\n",
              "  tensor(0.6599, dtype=torch.float64),\n",
              "  tensor(0.7102, dtype=torch.float64),\n",
              "  tensor(0.6599, dtype=torch.float64),\n",
              "  tensor(0.7102, dtype=torch.float64),\n",
              "  tensor(0.6599, dtype=torch.float64),\n",
              "  tensor(0.7102, dtype=torch.float64),\n",
              "  tensor(0.6599, dtype=torch.float64),\n",
              "  tensor(0.7102, dtype=torch.float64),\n",
              "  tensor(0.6599, dtype=torch.float64),\n",
              "  tensor(0.7102, dtype=torch.float64),\n",
              "  tensor(0.6599, dtype=torch.float64),\n",
              "  tensor(0.7102, dtype=torch.float64),\n",
              "  tensor(0.6599, dtype=torch.float64),\n",
              "  tensor(0.7102, dtype=torch.float64),\n",
              "  tensor(0.6599, dtype=torch.float64),\n",
              "  tensor(0.7102, dtype=torch.float64),\n",
              "  tensor(0.6599, dtype=torch.float64),\n",
              "  tensor(0.7102, dtype=torch.float64),\n",
              "  tensor(0.6599, dtype=torch.float64),\n",
              "  tensor(0.7102, dtype=torch.float64),\n",
              "  tensor(0.6599, dtype=torch.float64),\n",
              "  tensor(0.7102, dtype=torch.float64),\n",
              "  tensor(0.6599, dtype=torch.float64),\n",
              "  tensor(0.7102, dtype=torch.float64),\n",
              "  tensor(0.6599, dtype=torch.float64),\n",
              "  tensor(0.7102, dtype=torch.float64),\n",
              "  tensor(0.6599, dtype=torch.float64),\n",
              "  tensor(0.7102, dtype=torch.float64),\n",
              "  tensor(0.6599, dtype=torch.float64),\n",
              "  tensor(0.7102, dtype=torch.float64),\n",
              "  tensor(0.6599, dtype=torch.float64),\n",
              "  tensor(0.7102, dtype=torch.float64),\n",
              "  tensor(0.6599, dtype=torch.float64),\n",
              "  tensor(0.7102, dtype=torch.float64),\n",
              "  tensor(0.6599, dtype=torch.float64),\n",
              "  tensor(0.7102, dtype=torch.float64),\n",
              "  tensor(0.6599, dtype=torch.float64),\n",
              "  tensor(0.7102, dtype=torch.float64),\n",
              "  tensor(0.6599, dtype=torch.float64),\n",
              "  tensor(0.7102, dtype=torch.float64),\n",
              "  tensor(0.6599, dtype=torch.float64),\n",
              "  tensor(0.7102, dtype=torch.float64),\n",
              "  tensor(0.6599, dtype=torch.float64),\n",
              "  tensor(0.7102, dtype=torch.float64),\n",
              "  tensor(0.6599, dtype=torch.float64),\n",
              "  tensor(0.7102, dtype=torch.float64),\n",
              "  tensor(0.6599, dtype=torch.float64),\n",
              "  tensor(0.7102, dtype=torch.float64),\n",
              "  tensor(0.6599, dtype=torch.float64),\n",
              "  tensor(0.7102, dtype=torch.float64),\n",
              "  tensor(0.6599, dtype=torch.float64),\n",
              "  tensor(0.7102, dtype=torch.float64),\n",
              "  tensor(0.6599, dtype=torch.float64),\n",
              "  tensor(0.7102, dtype=torch.float64),\n",
              "  tensor(0.6599, dtype=torch.float64),\n",
              "  tensor(0.7102, dtype=torch.float64),\n",
              "  tensor(0.6599, dtype=torch.float64),\n",
              "  tensor(0.7102, dtype=torch.float64),\n",
              "  tensor(0.6599, dtype=torch.float64),\n",
              "  tensor(0.7102, dtype=torch.float64),\n",
              "  tensor(0.6599, dtype=torch.float64),\n",
              "  tensor(0.7102, dtype=torch.float64),\n",
              "  tensor(0.6599, dtype=torch.float64),\n",
              "  tensor(0.7102, dtype=torch.float64),\n",
              "  tensor(0.6599, dtype=torch.float64),\n",
              "  tensor(0.7102, dtype=torch.float64),\n",
              "  tensor(0.6599, dtype=torch.float64),\n",
              "  tensor(0.7102, dtype=torch.float64),\n",
              "  tensor(0.6599, dtype=torch.float64),\n",
              "  tensor(0.7102, dtype=torch.float64),\n",
              "  tensor(0.6599, dtype=torch.float64),\n",
              "  tensor(0.7102, dtype=torch.float64),\n",
              "  tensor(0.6599, dtype=torch.float64),\n",
              "  tensor(0.7102, dtype=torch.float64),\n",
              "  tensor(0.6599, dtype=torch.float64),\n",
              "  tensor(0.7102, dtype=torch.float64),\n",
              "  tensor(0.6599, dtype=torch.float64),\n",
              "  tensor(0.7102, dtype=torch.float64),\n",
              "  tensor(0.6599, dtype=torch.float64),\n",
              "  tensor(0.7102, dtype=torch.float64),\n",
              "  tensor(0.6599, dtype=torch.float64),\n",
              "  tensor(0.7102, dtype=torch.float64),\n",
              "  tensor(0.6599, dtype=torch.float64),\n",
              "  tensor(0.7102, dtype=torch.float64),\n",
              "  tensor(0.6599, dtype=torch.float64),\n",
              "  tensor(0.7102, dtype=torch.float64),\n",
              "  tensor(0.6599, dtype=torch.float64),\n",
              "  tensor(0.7102, dtype=torch.float64),\n",
              "  tensor(0.6599, dtype=torch.float64),\n",
              "  tensor(0.7102, dtype=torch.float64),\n",
              "  tensor(0.6599, dtype=torch.float64),\n",
              "  tensor(0.7102, dtype=torch.float64),\n",
              "  tensor(0.6599, dtype=torch.float64),\n",
              "  tensor(0.7102, dtype=torch.float64),\n",
              "  tensor(0.6599, dtype=torch.float64),\n",
              "  tensor(0.7102, dtype=torch.float64),\n",
              "  tensor(0.6599, dtype=torch.float64),\n",
              "  tensor(0.7102, dtype=torch.float64),\n",
              "  tensor(0.6599, dtype=torch.float64),\n",
              "  tensor(0.7102, dtype=torch.float64),\n",
              "  tensor(0.6599, dtype=torch.float64),\n",
              "  tensor(0.7102, dtype=torch.float64),\n",
              "  tensor(0.6599, dtype=torch.float64),\n",
              "  tensor(0.7102, dtype=torch.float64),\n",
              "  tensor(0.6599, dtype=torch.float64),\n",
              "  tensor(0.7102, dtype=torch.float64),\n",
              "  tensor(0.6599, dtype=torch.float64),\n",
              "  tensor(0.7102, dtype=torch.float64),\n",
              "  tensor(0.6599, dtype=torch.float64),\n",
              "  tensor(0.7102, dtype=torch.float64),\n",
              "  tensor(0.6599, dtype=torch.float64)])"
            ]
          },
          "metadata": {},
          "execution_count": 110
        }
      ]
    },
    {
      "cell_type": "code",
      "source": [],
      "metadata": {
        "id": "5Wbn8h9opdUm"
      },
      "execution_count": null,
      "outputs": []
    },
    {
      "cell_type": "code",
      "source": [
        "model_0.state_dict()"
      ],
      "metadata": {
        "colab": {
          "base_uri": "https://localhost:8080/"
        },
        "id": "N-exxxNgl0yX",
        "outputId": "eec1c015-f0db-4f06-a751-2b75fe6c3cbd"
      },
      "execution_count": 111,
      "outputs": [
        {
          "output_type": "execute_result",
          "data": {
            "text/plain": [
              "OrderedDict([('weights', tensor([0.6370])),\n",
              "             ('bias', tensor([0.3814], dtype=torch.float64))])"
            ]
          },
          "metadata": {},
          "execution_count": 111
        }
      ]
    },
    {
      "cell_type": "code",
      "source": [
        "# import numpy as np\n",
        "# np.array(torch.tensor(loss_values)).cpu().numpy()\n",
        "# loss_values_np = np.array(loss_values)  # Simply convert the list to NumPy array\n",
        "# Assuming loss_values is a list of PyTorch tensors\n",
        "loss_values_np = np.array([loss.detach().numpy() for loss in loss_values])  # Detach and convert to NumPy\n",
        "\n"
      ],
      "metadata": {
        "id": "E-Vxida0rImd"
      },
      "execution_count": 112,
      "outputs": []
    },
    {
      "cell_type": "code",
      "source": [
        "# Plot the loss curves\n",
        "plt.plot(epoch_count, loss_values_np, label=\"Train Loss\")\n",
        "plt.plot(epoch_count, test_loss_values, label=\"Test Loss\")\n",
        "plt.title(\"Training and Testing Loss\")\n",
        "plt.ylabel(\"Loss\")\n",
        "plt.xlabel(\"Epochs\")\n",
        "plt.legend()\n",
        "plt.show()"
      ],
      "metadata": {
        "colab": {
          "base_uri": "https://localhost:8080/",
          "height": 472
        },
        "id": "ZIZ26wcPozUk",
        "outputId": "12877641-be2e-4aa4-9d0d-e5ff2d80d4cc"
      },
      "execution_count": 113,
      "outputs": [
        {
          "output_type": "display_data",
          "data": {
            "text/plain": [
              "<Figure size 640x480 with 1 Axes>"
            ],
            "image/png": "[encoded data removed]"
          },
          "metadata": {}
        }
      ]
    },
    {
      "cell_type": "markdown",
      "source": [
        "#saving model\n",
        "1.   torch.save()\n",
        "2.   toch.load(_\n",
        "3.   torch.nn.Module.load_state_dict()\n",
        "\n",
        "\n",
        "\n"
      ],
      "metadata": {
        "id": "oTPvkE6wsPhY"
      }
    },
    {
      "cell_type": "code",
      "source": [
        "#saving model\n",
        "model_0.state_dict()"
      ],
      "metadata": {
        "colab": {
          "base_uri": "https://localhost:8080/"
        },
        "id": "G252UkWDrx3v",
        "outputId": "261577b1-b63b-4648-d143-b411a9257bc5"
      },
      "execution_count": 115,
      "outputs": [
        {
          "output_type": "execute_result",
          "data": {
            "text/plain": [
              "OrderedDict([('weights', tensor([0.6370])),\n",
              "             ('bias', tensor([0.3814], dtype=torch.float64))])"
            ]
          },
          "metadata": {},
          "execution_count": 115
        }
      ]
    },
    {
      "cell_type": "code",
      "source": [
        "#Saving our pytorch model\n",
        "from pathlib import Path\n",
        "\n",
        "#1.create  model directory\n",
        "MODEL_PATH = Path(\"models\")\n",
        "MODEL_PATH.mkdir(parents=True,exist_ok=True)\n",
        "\n",
        "#1. Create model save path\n",
        "Model_name = \"01_pytorch_workflow.pth\"\n",
        "model_save_path = MODEL_PATH / Model_name"
      ],
      "metadata": {
        "id": "lOzzQtQysmz4"
      },
      "execution_count": 116,
      "outputs": []
    }
  ]
}