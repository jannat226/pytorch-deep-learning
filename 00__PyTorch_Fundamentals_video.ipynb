{
  "nbformat": 4,
  "nbformat_minor": 0,
  "metadata": {
    "colab": {
      "provenance": []
    },
    "kernelspec": {
      "name": "python3",
      "display_name": "Python 3"
    },
    "language_info": {
      "name": "python"
    }
  },
  "cells": [
    {
      "cell_type": "code",
      "execution_count": 1,
      "metadata": {
        "colab": {
          "base_uri": "https://localhost:8080/"
        },
        "id": "JPTMgiKs0Q8m",
        "outputId": "e64ad203-fa51-4bf6-cb01-818d425cf837"
      },
      "outputs": [
        {
          "output_type": "stream",
          "name": "stdout",
          "text": [
            "Hello World\n"
          ]
        }
      ],
      "source": [
        "print(\"Hello World\")"
      ]
    },
    {
      "cell_type": "code",
      "source": [
        "!nvidia-smi"
      ],
      "metadata": {
        "colab": {
          "base_uri": "https://localhost:8080/"
        },
        "id": "gjUrWO5J03pc",
        "outputId": "fd8918b9-6af1-44c3-b25a-2691ddf7612b"
      },
      "execution_count": 2,
      "outputs": [
        {
          "output_type": "stream",
          "name": "stdout",
          "text": [
            "/bin/bash: line 1: nvidia-smi: command not found\n"
          ]
        }
      ]
    },
    {
      "cell_type": "code",
      "source": [
        "import torch\n",
        "import pandas as pd\n",
        "import numpy as np\n",
        "import matplotlib as plt\n",
        "print(torch.__version__)"
      ],
      "metadata": {
        "colab": {
          "base_uri": "https://localhost:8080/"
        },
        "id": "PMxGIESm1C73",
        "outputId": "69cf4e8d-f4e2-43ed-ff10-a4ce110c8418"
      },
      "execution_count": 4,
      "outputs": [
        {
          "output_type": "stream",
          "name": "stdout",
          "text": [
            "2.6.0+cu124\n"
          ]
        }
      ]
    },
    {
      "cell_type": "markdown",
      "source": [
        "##Intro to tensor\n",
        "\n",
        "\n",
        "##Creating Tensor"
      ],
      "metadata": {
        "id": "mfRP3qRS2Bqu"
      }
    },
    {
      "cell_type": "code",
      "source": [
        "##Intro to tensor\n",
        "\n",
        "scalar = torch.tensor(7)\n",
        "scalar\n",
        "##Creating Tensor"
      ],
      "metadata": {
        "colab": {
          "base_uri": "https://localhost:8080/"
        },
        "id": "i84r5nvz13ug",
        "outputId": "0bcd9879-a276-4acc-c5e3-e214d0981144"
      },
      "execution_count": 6,
      "outputs": [
        {
          "output_type": "execute_result",
          "data": {
            "text/plain": [
              "tensor(7)"
            ]
          },
          "metadata": {},
          "execution_count": 6
        }
      ]
    },
    {
      "cell_type": "code",
      "source": [
        "scalar.ndim"
      ],
      "metadata": {
        "colab": {
          "base_uri": "https://localhost:8080/"
        },
        "id": "cif_q5yM2d5e",
        "outputId": "553f5d8a-9f6e-4af1-b62c-e38b12b0bcfa"
      },
      "execution_count": 7,
      "outputs": [
        {
          "output_type": "execute_result",
          "data": {
            "text/plain": [
              "0"
            ]
          },
          "metadata": {},
          "execution_count": 7
        }
      ]
    },
    {
      "cell_type": "code",
      "source": [
        "scalar.item()"
      ],
      "metadata": {
        "colab": {
          "base_uri": "https://localhost:8080/"
        },
        "id": "HfaM5Qo421HH",
        "outputId": "bef10b36-46a3-4f83-f77b-032e18509bbc"
      },
      "execution_count": 9,
      "outputs": [
        {
          "output_type": "execute_result",
          "data": {
            "text/plain": [
              "7"
            ]
          },
          "metadata": {},
          "execution_count": 9
        }
      ]
    },
    {
      "cell_type": "code",
      "source": [
        "vector = torch.tensor([7,7])"
      ],
      "metadata": {
        "id": "1JYh6tgG23bU"
      },
      "execution_count": 11,
      "outputs": []
    },
    {
      "cell_type": "code",
      "source": [],
      "metadata": {
        "id": "8XF4yuRc4GTv"
      },
      "execution_count": null,
      "outputs": []
    },
    {
      "cell_type": "code",
      "source": [
        "vector.shape"
      ],
      "metadata": {
        "colab": {
          "base_uri": "https://localhost:8080/"
        },
        "id": "gqJBJV-H3lyP",
        "outputId": "9aaa5293-f8e3-44d3-9696-6ff288b90ce8"
      },
      "execution_count": 16,
      "outputs": [
        {
          "output_type": "execute_result",
          "data": {
            "text/plain": [
              "torch.Size([2])"
            ]
          },
          "metadata": {},
          "execution_count": 16
        }
      ]
    },
    {
      "cell_type": "code",
      "source": [
        "vector.ndim"
      ],
      "metadata": {
        "colab": {
          "base_uri": "https://localhost:8080/"
        },
        "id": "Riwm3JBe3g3Y",
        "outputId": "513f946c-39d8-4ce8-fe18-c49f8952fcf2"
      },
      "execution_count": 13,
      "outputs": [
        {
          "output_type": "execute_result",
          "data": {
            "text/plain": [
              "1"
            ]
          },
          "metadata": {},
          "execution_count": 13
        }
      ]
    },
    {
      "cell_type": "code",
      "source": [
        "matrix = torch.tensor([[7,7],[8,8]])"
      ],
      "metadata": {
        "id": "5e9uje-s4H06"
      },
      "execution_count": 21,
      "outputs": []
    },
    {
      "cell_type": "code",
      "source": [
        "matrix.ndim"
      ],
      "metadata": {
        "colab": {
          "base_uri": "https://localhost:8080/"
        },
        "id": "PNhNfbjm4Nf4",
        "outputId": "49356256-cffa-4682-88f7-a72aac08ee4a"
      },
      "execution_count": 22,
      "outputs": [
        {
          "output_type": "execute_result",
          "data": {
            "text/plain": [
              "2"
            ]
          },
          "metadata": {},
          "execution_count": 22
        }
      ]
    },
    {
      "cell_type": "code",
      "source": [
        "matrix.shape"
      ],
      "metadata": {
        "colab": {
          "base_uri": "https://localhost:8080/"
        },
        "id": "MFoQgtQ74QJr",
        "outputId": "e0fca37f-48cf-4b0d-8d43-4d21727f93ec"
      },
      "execution_count": 23,
      "outputs": [
        {
          "output_type": "execute_result",
          "data": {
            "text/plain": [
              "torch.Size([2, 2])"
            ]
          },
          "metadata": {},
          "execution_count": 23
        }
      ]
    },
    {
      "cell_type": "code",
      "source": [
        "matrix[1]"
      ],
      "metadata": {
        "colab": {
          "base_uri": "https://localhost:8080/"
        },
        "id": "IIKNiTFl4V_G",
        "outputId": "0d6ca35b-a0a0-4137-9f53-097bc26f7827"
      },
      "execution_count": 24,
      "outputs": [
        {
          "output_type": "execute_result",
          "data": {
            "text/plain": [
              "tensor([8, 8])"
            ]
          },
          "metadata": {},
          "execution_count": 24
        }
      ]
    },
    {
      "cell_type": "code",
      "source": [
        "# Tensor\n",
        "tensor = torch.tensor([[[1,2,3],[4,5,6]]])"
      ],
      "metadata": {
        "id": "M06xmYd24eow"
      },
      "execution_count": 25,
      "outputs": []
    },
    {
      "cell_type": "code",
      "source": [
        "tensor.ndim"
      ],
      "metadata": {
        "colab": {
          "base_uri": "https://localhost:8080/"
        },
        "id": "vsF1cOCD4pTC",
        "outputId": "217712d7-57cf-49d9-86f6-2c30fe4da50d"
      },
      "execution_count": 26,
      "outputs": [
        {
          "output_type": "execute_result",
          "data": {
            "text/plain": [
              "3"
            ]
          },
          "metadata": {},
          "execution_count": 26
        }
      ]
    },
    {
      "cell_type": "code",
      "source": [
        "tensor.shape"
      ],
      "metadata": {
        "colab": {
          "base_uri": "https://localhost:8080/"
        },
        "id": "BCUE8TeP4q5b",
        "outputId": "0e93e384-a57a-4298-aad0-ad060dbefbab"
      },
      "execution_count": 27,
      "outputs": [
        {
          "output_type": "execute_result",
          "data": {
            "text/plain": [
              "torch.Size([1, 2, 3])"
            ]
          },
          "metadata": {},
          "execution_count": 27
        }
      ]
    },
    {
      "cell_type": "code",
      "source": [
        "tensor[0]"
      ],
      "metadata": {
        "colab": {
          "base_uri": "https://localhost:8080/"
        },
        "id": "g5Df6C4c4sgT",
        "outputId": "733a09fb-fa51-4499-84b9-cb996941a50d"
      },
      "execution_count": 28,
      "outputs": [
        {
          "output_type": "execute_result",
          "data": {
            "text/plain": [
              "tensor([[1, 2, 3],\n",
              "        [4, 5, 6]])"
            ]
          },
          "metadata": {},
          "execution_count": 28
        }
      ]
    },
    {
      "cell_type": "markdown",
      "source": [
        "##Random tensors\n",
        "why random tensors?\n",
        "\n",
        "Random tensors are important because the way many neural networks learn is that they start with tensors full of random numbers and then adjust those random number  to better represntation\n",
        "\n",
        "`start with random numbers -> look at data -> update random numbers -> look at data -> update random numbers`\n",
        "\n",
        "\n"
      ],
      "metadata": {
        "id": "yM2b978453MK"
      }
    },
    {
      "cell_type": "code",
      "source": [
        "#create a random tensor\n",
        "random = torch.rand(10,10,10)\n"
      ],
      "metadata": {
        "id": "Ej2ZJ4xF5X4R"
      },
      "execution_count": 43,
      "outputs": []
    },
    {
      "cell_type": "code",
      "source": [
        "print(random)"
      ],
      "metadata": {
        "colab": {
          "base_uri": "https://localhost:8080/"
        },
        "id": "3XCz5zAB5ZU6",
        "outputId": "c96af70d-cb50-4e24-802d-f36314978152"
      },
      "execution_count": 44,
      "outputs": [
        {
          "output_type": "stream",
          "name": "stdout",
          "text": [
            "tensor([[[4.9705e-02, 3.1026e-01, 9.5649e-01, 1.0853e-01, 5.3807e-01,\n",
            "          9.9256e-01, 3.2220e-01, 3.9933e-01, 4.3012e-01, 5.8717e-01],\n",
            "         [8.8506e-02, 6.0026e-01, 2.3272e-01, 7.6069e-01, 1.8405e-01,\n",
            "          8.4727e-01, 3.1779e-02, 9.0218e-01, 4.4974e-01, 4.8118e-01],\n",
            "         [5.3972e-01, 3.4970e-01, 6.6828e-01, 5.6426e-01, 7.3617e-02,\n",
            "          2.4401e-01, 3.1578e-01, 1.3919e-01, 7.9763e-01, 3.0582e-01],\n",
            "         [1.2742e-01, 5.1822e-02, 9.6650e-01, 2.0346e-02, 7.0309e-01,\n",
            "          1.8056e-01, 4.0049e-01, 4.6521e-01, 7.4106e-01, 6.7286e-01],\n",
            "         [3.7862e-01, 2.9192e-01, 6.4710e-01, 1.9652e-01, 9.0262e-01,\n",
            "          6.0132e-01, 9.7905e-01, 7.9971e-01, 2.9561e-01, 7.7786e-02],\n",
            "         [1.4356e-01, 2.6776e-01, 2.6012e-01, 6.8297e-01, 5.3558e-01,\n",
            "          5.7632e-01, 4.5247e-01, 8.6736e-01, 5.5706e-01, 5.2735e-01],\n",
            "         [5.2786e-01, 4.0147e-01, 7.1502e-01, 5.7493e-01, 1.5605e-01,\n",
            "          7.7777e-01, 3.8523e-01, 7.7425e-01, 5.5455e-01, 1.9620e-01],\n",
            "         [1.1800e-01, 3.4636e-01, 1.6610e-01, 2.5927e-01, 7.0164e-01,\n",
            "          7.2957e-01, 4.5553e-01, 9.2977e-01, 2.2092e-01, 1.2219e-01],\n",
            "         [8.9726e-01, 7.1872e-01, 9.0851e-01, 5.4961e-01, 9.0793e-01,\n",
            "          5.9388e-01, 7.6974e-01, 7.5107e-01, 2.0958e-01, 6.2824e-01],\n",
            "         [8.3947e-01, 3.5509e-01, 8.0092e-01, 7.3776e-01, 6.2680e-01,\n",
            "          5.5766e-01, 1.8643e-01, 4.2815e-01, 6.8683e-01, 8.7079e-01]],\n",
            "\n",
            "        [[4.2947e-01, 1.0184e-01, 7.2496e-01, 1.1641e-01, 4.6311e-01,\n",
            "          2.0226e-01, 9.7317e-01, 4.0773e-01, 6.8421e-01, 6.2340e-01],\n",
            "         [3.8908e-01, 1.9545e-01, 1.4311e-01, 9.3604e-01, 9.0822e-01,\n",
            "          6.8443e-01, 9.3550e-01, 5.7047e-02, 1.0729e-01, 2.8433e-01],\n",
            "         [7.6006e-01, 2.9202e-01, 9.7743e-01, 7.1529e-01, 5.0349e-02,\n",
            "          7.1664e-01, 3.4310e-01, 5.1318e-01, 2.9111e-01, 4.8971e-01],\n",
            "         [6.3550e-02, 9.2657e-01, 9.1853e-01, 9.2822e-01, 3.3090e-01,\n",
            "          8.0297e-02, 2.5339e-01, 1.4274e-01, 9.9089e-01, 8.4232e-02],\n",
            "         [6.3061e-02, 6.6358e-02, 1.4997e-01, 4.8622e-01, 2.5704e-01,\n",
            "          2.2843e-01, 5.5295e-01, 6.9331e-01, 1.0942e-01, 2.6666e-01],\n",
            "         [8.4891e-01, 8.7651e-01, 3.4191e-01, 4.4445e-01, 1.5296e-02,\n",
            "          9.2106e-01, 9.0124e-01, 7.1352e-01, 8.9281e-01, 2.4296e-01],\n",
            "         [2.8023e-01, 5.7047e-01, 7.1654e-01, 8.6403e-01, 4.2799e-01,\n",
            "          1.4251e-01, 9.9127e-02, 1.4926e-02, 9.2895e-01, 2.7345e-01],\n",
            "         [7.6992e-01, 5.3510e-01, 3.3092e-01, 4.5202e-01, 8.0043e-01,\n",
            "          3.9761e-01, 6.1705e-01, 3.4935e-01, 3.4150e-01, 2.2182e-01],\n",
            "         [7.3988e-01, 7.9066e-01, 4.3525e-01, 9.6756e-02, 5.0154e-01,\n",
            "          2.8672e-01, 6.3173e-01, 2.7816e-01, 4.0948e-01, 6.6408e-02],\n",
            "         [9.3283e-01, 3.2516e-01, 5.5005e-01, 5.8075e-01, 9.3466e-01,\n",
            "          6.9085e-01, 4.9398e-01, 3.2150e-02, 2.9990e-01, 6.9714e-01]],\n",
            "\n",
            "        [[3.7455e-01, 7.8660e-01, 6.3968e-01, 6.2205e-02, 5.2830e-01,\n",
            "          8.8329e-01, 7.7758e-01, 3.1319e-01, 2.9585e-01, 2.6225e-01],\n",
            "         [6.7878e-01, 5.3759e-01, 6.5840e-01, 8.0065e-01, 5.4404e-01,\n",
            "          8.3562e-01, 2.7134e-01, 5.3953e-01, 7.4722e-01, 4.3426e-01],\n",
            "         [2.4789e-01, 4.0837e-01, 7.8879e-01, 5.3855e-01, 8.3744e-01,\n",
            "          1.0522e-01, 1.3964e-01, 7.1234e-01, 8.5092e-01, 5.8525e-01],\n",
            "         [5.4151e-01, 7.8460e-01, 6.4821e-01, 3.0534e-01, 3.5473e-02,\n",
            "          9.5491e-01, 6.9729e-02, 7.2179e-01, 2.8243e-01, 5.1699e-01],\n",
            "         [6.1838e-01, 3.8975e-01, 1.4309e-01, 3.5114e-01, 3.7452e-01,\n",
            "          6.5353e-01, 7.6877e-01, 7.4877e-01, 5.5720e-01, 9.4360e-01],\n",
            "         [7.9513e-01, 8.3913e-02, 4.5973e-01, 3.5378e-01, 8.3756e-01,\n",
            "          9.5881e-01, 7.9393e-01, 6.8828e-01, 4.1700e-01, 5.5809e-01],\n",
            "         [8.8790e-01, 1.6022e-01, 8.5815e-02, 7.1676e-01, 1.5366e-02,\n",
            "          7.2924e-01, 6.4974e-01, 1.4238e-01, 8.0573e-01, 9.7608e-01],\n",
            "         [3.4845e-01, 8.3798e-01, 7.9047e-01, 6.8362e-01, 9.5900e-01,\n",
            "          5.9612e-01, 2.2297e-01, 1.8714e-01, 1.9871e-01, 9.3938e-01],\n",
            "         [7.3567e-01, 9.6666e-01, 7.6482e-01, 3.8200e-01, 9.1335e-01,\n",
            "          4.6207e-01, 5.9654e-01, 1.5155e-01, 7.9244e-01, 1.9875e-02],\n",
            "         [1.7181e-01, 8.8579e-01, 3.9143e-01, 6.9766e-01, 3.4174e-01,\n",
            "          3.1918e-01, 9.0771e-02, 5.4700e-02, 1.1081e-01, 7.8415e-01]],\n",
            "\n",
            "        [[9.2420e-01, 7.7544e-01, 5.0335e-01, 1.1929e-01, 5.6031e-01,\n",
            "          8.3283e-01, 4.5028e-01, 8.6715e-02, 4.6878e-01, 8.3535e-01],\n",
            "         [1.7859e-01, 7.7588e-02, 7.0806e-01, 6.6225e-02, 5.7072e-01,\n",
            "          6.6004e-01, 9.7010e-01, 6.6465e-01, 2.5505e-01, 3.7596e-01],\n",
            "         [5.1179e-01, 1.8015e-01, 5.7678e-01, 2.7019e-01, 8.9271e-01,\n",
            "          7.4254e-03, 1.1451e-01, 6.1239e-01, 1.9946e-01, 8.6312e-01],\n",
            "         [5.1560e-01, 2.3877e-01, 6.6606e-01, 7.9422e-01, 9.3629e-01,\n",
            "          9.6469e-01, 3.2082e-01, 3.2805e-01, 6.6021e-01, 8.5603e-01],\n",
            "         [7.5050e-01, 5.3362e-02, 9.4774e-01, 2.1757e-01, 2.7691e-01,\n",
            "          3.5315e-01, 8.8500e-01, 7.6990e-01, 4.4254e-02, 8.6836e-02],\n",
            "         [8.5432e-01, 6.5920e-01, 7.0299e-02, 6.6168e-01, 4.1209e-01,\n",
            "          5.4995e-01, 9.6874e-01, 5.6871e-01, 6.4794e-01, 1.7531e-01],\n",
            "         [2.3812e-01, 7.8190e-01, 4.0854e-02, 3.3008e-01, 1.2666e-02,\n",
            "          7.5253e-01, 1.5672e-01, 1.8555e-01, 3.3394e-01, 5.2072e-01],\n",
            "         [9.1328e-01, 4.7744e-01, 6.7678e-01, 2.7841e-01, 9.6755e-01,\n",
            "          1.9557e-01, 9.2814e-01, 5.6627e-03, 5.0159e-01, 4.2970e-01],\n",
            "         [5.4323e-01, 4.4090e-01, 8.3412e-01, 6.0702e-01, 3.9327e-01,\n",
            "          3.1964e-02, 1.2080e-01, 8.1607e-01, 5.8358e-01, 3.1553e-01],\n",
            "         [6.5180e-01, 9.8508e-01, 1.7793e-01, 3.5452e-01, 1.4963e-01,\n",
            "          6.4785e-01, 4.3283e-01, 7.8634e-01, 9.1139e-01, 6.2295e-01]],\n",
            "\n",
            "        [[6.5574e-01, 5.0008e-01, 7.1721e-01, 5.8842e-01, 6.2346e-01,\n",
            "          6.4839e-01, 5.8457e-01, 9.8732e-01, 8.5658e-01, 2.2592e-01],\n",
            "         [9.5143e-01, 3.1303e-01, 3.4909e-01, 3.5828e-01, 1.3281e-01,\n",
            "          7.4197e-01, 7.4669e-01, 9.4358e-01, 8.6033e-01, 2.4778e-01],\n",
            "         [1.5812e-01, 5.2592e-01, 3.6773e-01, 5.9138e-01, 9.8892e-01,\n",
            "          6.7906e-01, 7.7063e-01, 8.1949e-01, 3.5362e-01, 9.9981e-02],\n",
            "         [4.8584e-02, 5.8743e-01, 5.2705e-01, 7.7417e-01, 5.6532e-01,\n",
            "          4.0031e-01, 8.6929e-01, 9.1391e-01, 5.2580e-01, 9.6258e-01],\n",
            "         [7.7817e-01, 4.5213e-01, 5.6444e-01, 6.5438e-01, 8.6590e-01,\n",
            "          2.7850e-01, 3.2473e-01, 5.8406e-01, 1.6191e-01, 8.3321e-01],\n",
            "         [3.0584e-01, 1.6477e-01, 5.4674e-01, 5.0168e-01, 7.8951e-01,\n",
            "          5.1192e-01, 1.1075e-01, 3.6430e-01, 2.1520e-01, 4.9728e-01],\n",
            "         [4.9303e-01, 4.3593e-01, 5.3434e-01, 7.4189e-01, 1.9448e-01,\n",
            "          5.8630e-01, 2.2331e-01, 3.4891e-01, 1.7988e-01, 4.5702e-01],\n",
            "         [5.5094e-01, 5.7629e-01, 1.7643e-01, 8.2270e-01, 8.5401e-01,\n",
            "          6.4184e-01, 2.3865e-02, 4.1262e-01, 4.8816e-01, 9.3713e-01],\n",
            "         [4.6791e-01, 2.9343e-01, 8.9072e-01, 1.8973e-01, 9.2570e-01,\n",
            "          3.0175e-01, 6.2238e-01, 1.2121e-01, 9.9424e-01, 8.5106e-01],\n",
            "         [6.8404e-01, 8.9529e-02, 5.1067e-01, 5.2026e-01, 1.6083e-01,\n",
            "          5.7783e-01, 1.3453e-01, 5.4508e-01, 5.2083e-01, 5.4620e-01]],\n",
            "\n",
            "        [[8.5307e-01, 7.1104e-01, 2.3557e-01, 1.3695e-01, 5.4210e-01,\n",
            "          3.8150e-01, 3.4156e-02, 4.5837e-01, 1.8774e-01, 3.0023e-01],\n",
            "         [4.6952e-02, 5.3914e-01, 8.6099e-01, 3.8393e-02, 1.1232e-01,\n",
            "          8.4569e-01, 8.3769e-01, 1.4846e-02, 1.6604e-01, 4.3297e-01],\n",
            "         [4.1312e-01, 1.0723e-01, 9.5130e-01, 5.7228e-01, 6.8761e-01,\n",
            "          7.4474e-01, 5.1019e-01, 3.9042e-01, 9.4579e-01, 8.7888e-01],\n",
            "         [2.7918e-01, 1.6800e-01, 7.0694e-01, 3.4539e-01, 8.8804e-01,\n",
            "          4.3504e-01, 2.3998e-01, 7.1778e-01, 2.6115e-01, 8.1577e-01],\n",
            "         [9.5515e-01, 4.3346e-01, 8.8047e-01, 8.3747e-01, 6.1244e-01,\n",
            "          8.4855e-01, 2.5812e-01, 5.8358e-01, 4.3259e-01, 6.2698e-01],\n",
            "         [6.2932e-01, 9.9524e-01, 9.9812e-01, 3.3407e-02, 1.8466e-01,\n",
            "          5.3381e-01, 8.2066e-01, 7.3524e-02, 2.2959e-01, 5.0813e-01],\n",
            "         [2.3604e-01, 6.6525e-01, 5.1266e-01, 5.3590e-01, 4.4010e-01,\n",
            "          7.3895e-01, 7.3096e-01, 4.8931e-01, 9.9577e-01, 3.9426e-01],\n",
            "         [2.1624e-01, 4.9364e-01, 7.0421e-01, 6.6830e-01, 6.6843e-01,\n",
            "          6.7351e-01, 9.9818e-01, 6.5556e-01, 2.5981e-01, 8.8806e-01],\n",
            "         [1.4535e-02, 3.5841e-01, 1.2044e-01, 4.8422e-01, 8.7316e-01,\n",
            "          3.8705e-02, 9.0373e-01, 4.6528e-01, 4.7339e-01, 6.9981e-01],\n",
            "         [5.6956e-01, 9.8143e-01, 2.5584e-01, 8.1283e-01, 5.5764e-01,\n",
            "          1.0736e-01, 3.9316e-01, 8.0544e-01, 1.5482e-01, 5.6535e-01]],\n",
            "\n",
            "        [[2.7051e-01, 6.8493e-01, 8.5598e-01, 3.4302e-04, 3.1516e-01,\n",
            "          4.1453e-01, 5.3166e-02, 8.5231e-01, 8.0895e-01, 9.5006e-02],\n",
            "         [4.1146e-01, 3.1577e-01, 4.4786e-01, 5.3208e-01, 3.2836e-01,\n",
            "          1.5949e-01, 3.2169e-01, 5.6827e-02, 3.2216e-01, 7.6533e-01],\n",
            "         [5.2714e-01, 4.1146e-01, 3.6028e-01, 3.0316e-01, 5.8681e-01,\n",
            "          1.3482e-01, 8.3071e-01, 4.0347e-01, 1.6332e-01, 6.9157e-01],\n",
            "         [2.1284e-01, 1.8671e-01, 7.9486e-02, 9.4267e-01, 4.1825e-01,\n",
            "          5.7494e-01, 9.3569e-02, 7.6531e-01, 9.5141e-01, 8.2334e-01],\n",
            "         [8.3338e-01, 9.9639e-01, 1.2604e-02, 6.4021e-01, 2.8228e-01,\n",
            "          5.3743e-01, 6.0762e-01, 8.2701e-01, 4.4802e-01, 7.8696e-01],\n",
            "         [9.1073e-01, 1.6317e-01, 8.4317e-02, 8.4345e-01, 8.8386e-01,\n",
            "          4.4087e-01, 5.2604e-01, 2.8833e-01, 2.9767e-01, 1.4362e-01],\n",
            "         [1.6236e-01, 1.8511e-01, 7.3657e-01, 4.4573e-01, 3.1635e-01,\n",
            "          2.1696e-01, 4.7715e-02, 7.2266e-01, 2.2047e-01, 8.4934e-01],\n",
            "         [7.1084e-01, 3.2720e-02, 5.2219e-01, 3.7844e-01, 4.0482e-01,\n",
            "          2.9374e-01, 3.6247e-02, 1.7029e-01, 7.4026e-01, 4.9278e-01],\n",
            "         [2.9119e-01, 9.6278e-01, 1.8128e-01, 8.9818e-01, 6.5376e-01,\n",
            "          3.3219e-01, 4.9529e-01, 5.2049e-01, 9.5455e-01, 9.0255e-03],\n",
            "         [6.7286e-01, 3.8785e-02, 7.0213e-01, 6.5474e-01, 6.4597e-02,\n",
            "          7.0668e-01, 6.2694e-01, 6.5698e-01, 9.3805e-01, 2.5610e-03]],\n",
            "\n",
            "        [[9.5523e-01, 8.5735e-01, 8.8728e-01, 6.2724e-01, 3.4404e-01,\n",
            "          2.8017e-01, 7.7286e-01, 4.9192e-01, 7.0127e-01, 9.5177e-01],\n",
            "         [1.5518e-01, 2.5192e-01, 7.9710e-01, 5.2914e-01, 6.9974e-01,\n",
            "          6.7610e-01, 3.8415e-01, 8.6510e-01, 5.6415e-01, 2.5043e-02],\n",
            "         [9.7691e-01, 1.7667e-01, 8.8881e-01, 9.0138e-01, 3.6148e-01,\n",
            "          6.5212e-01, 2.3003e-01, 2.4824e-01, 7.7154e-01, 9.1034e-01],\n",
            "         [5.6154e-01, 5.5077e-01, 9.9430e-01, 4.8234e-01, 7.9799e-01,\n",
            "          5.3965e-01, 5.7786e-01, 7.3178e-01, 5.1514e-01, 6.2256e-01],\n",
            "         [9.5536e-01, 3.7245e-01, 5.2270e-01, 9.3811e-01, 8.7649e-01,\n",
            "          2.6752e-02, 1.6224e-01, 2.8751e-01, 7.1644e-01, 5.0801e-01],\n",
            "         [6.9299e-01, 5.2102e-02, 9.2083e-01, 9.1361e-01, 1.7645e-01,\n",
            "          9.2466e-02, 8.6465e-01, 3.0976e-01, 7.9813e-01, 4.9105e-01],\n",
            "         [2.5093e-02, 1.3336e-01, 9.1364e-01, 2.3603e-01, 9.0793e-02,\n",
            "          7.2359e-01, 1.4562e-01, 1.1940e-01, 5.8409e-01, 7.2625e-01],\n",
            "         [3.6491e-01, 8.1430e-01, 8.1863e-01, 6.1552e-01, 7.8197e-01,\n",
            "          1.4341e-01, 7.0148e-01, 4.4656e-01, 2.4895e-01, 4.2063e-01],\n",
            "         [5.5071e-01, 4.0092e-01, 3.3342e-02, 4.0284e-01, 5.6268e-01,\n",
            "          8.3831e-02, 2.2771e-01, 1.1422e-01, 2.9563e-01, 6.3841e-01],\n",
            "         [6.5724e-01, 1.1490e-01, 9.9567e-01, 6.8943e-01, 5.8626e-01,\n",
            "          4.8890e-01, 9.7776e-01, 5.3995e-01, 9.1984e-01, 1.8728e-01]],\n",
            "\n",
            "        [[6.0695e-01, 4.0338e-01, 9.0133e-01, 2.2526e-02, 9.6056e-01,\n",
            "          6.4421e-01, 4.6304e-02, 4.9923e-01, 4.7123e-01, 7.8904e-01],\n",
            "         [2.6424e-01, 3.9503e-01, 6.0703e-02, 5.3402e-01, 7.4123e-01,\n",
            "          7.8944e-01, 4.0031e-01, 9.7909e-01, 5.0048e-01, 2.3150e-01],\n",
            "         [6.9193e-01, 6.0952e-01, 2.7601e-01, 3.6084e-01, 6.9103e-01,\n",
            "          8.8793e-01, 6.4994e-01, 2.9225e-01, 2.9385e-01, 1.9177e-01],\n",
            "         [6.4830e-01, 6.1577e-01, 8.2776e-01, 9.9956e-01, 5.2791e-01,\n",
            "          1.1286e-01, 4.1674e-02, 9.8097e-01, 4.5944e-01, 2.4554e-01],\n",
            "         [4.2272e-01, 2.4123e-02, 6.2421e-01, 1.0088e-01, 1.5489e-01,\n",
            "          1.2853e-01, 3.9232e-01, 8.6986e-01, 9.2465e-01, 2.1775e-01],\n",
            "         [6.2920e-01, 5.0259e-01, 3.0960e-01, 6.7655e-01, 5.7273e-01,\n",
            "          9.2503e-01, 8.5793e-01, 5.9956e-01, 2.0914e-01, 5.8972e-02],\n",
            "         [1.6820e-01, 8.4257e-01, 3.8019e-01, 6.7940e-01, 8.9104e-01,\n",
            "          8.2496e-02, 7.1122e-01, 7.1390e-01, 8.1451e-01, 2.1212e-01],\n",
            "         [7.2452e-01, 2.9920e-01, 6.1704e-01, 7.1763e-01, 1.7734e-01,\n",
            "          9.8161e-02, 1.9251e-01, 4.5181e-01, 3.5137e-01, 3.3583e-01],\n",
            "         [9.8731e-01, 2.5021e-01, 7.5020e-01, 1.6107e-01, 5.1303e-01,\n",
            "          1.3210e-01, 6.8395e-01, 9.7791e-02, 5.6978e-02, 7.0311e-01],\n",
            "         [7.7124e-02, 4.1451e-01, 4.3169e-02, 2.4636e-01, 8.8778e-01,\n",
            "          2.0779e-01, 5.7337e-02, 4.7771e-01, 6.1377e-02, 3.8700e-01]],\n",
            "\n",
            "        [[7.9443e-01, 3.6836e-01, 4.5589e-01, 8.4455e-01, 3.8327e-01,\n",
            "          6.3811e-01, 6.0002e-01, 2.8146e-01, 8.2107e-01, 2.9297e-01],\n",
            "         [1.4021e-01, 3.0475e-01, 4.6301e-01, 1.9574e-01, 8.9146e-02,\n",
            "          4.9243e-01, 9.8159e-01, 1.9672e-02, 2.7530e-02, 8.2901e-01],\n",
            "         [3.1664e-01, 5.6085e-01, 7.0838e-01, 2.4567e-02, 8.4745e-01,\n",
            "          3.7264e-01, 8.5203e-01, 3.4282e-02, 3.9852e-01, 2.8264e-02],\n",
            "         [9.9294e-01, 2.4917e-01, 6.9008e-01, 4.6558e-01, 6.7042e-01,\n",
            "          9.4870e-01, 1.6621e-01, 4.0478e-01, 8.9254e-01, 8.8132e-01],\n",
            "         [1.2919e-01, 5.8002e-01, 7.7130e-01, 9.2768e-01, 5.4065e-01,\n",
            "          2.1218e-01, 8.8998e-01, 6.6927e-01, 1.5716e-01, 5.7337e-01],\n",
            "         [9.9758e-01, 8.6901e-01, 8.2295e-01, 7.4183e-03, 2.3047e-01,\n",
            "          8.1579e-01, 7.8893e-01, 4.7260e-01, 1.8073e-01, 5.7516e-01],\n",
            "         [8.4533e-01, 8.9252e-01, 8.4309e-01, 9.7825e-01, 2.2148e-01,\n",
            "          3.0695e-01, 5.3716e-01, 4.9916e-01, 3.3167e-01, 1.2046e-01],\n",
            "         [6.2168e-01, 3.4591e-01, 5.8801e-01, 9.6054e-01, 3.4425e-01,\n",
            "          8.2522e-01, 3.2533e-01, 1.3326e-01, 3.6623e-01, 1.3415e-01],\n",
            "         [6.0794e-02, 2.6378e-01, 5.1421e-01, 7.8166e-01, 6.5135e-01,\n",
            "          3.4350e-03, 4.8650e-01, 9.0813e-02, 1.2127e-01, 2.9226e-01],\n",
            "         [8.4652e-01, 4.7844e-01, 5.0581e-01, 3.0138e-01, 1.4872e-01,\n",
            "          6.8208e-01, 1.6208e-02, 4.0926e-01, 6.8214e-01, 3.9062e-01]]])\n"
          ]
        }
      ]
    },
    {
      "cell_type": "code",
      "source": [
        "random.ndim"
      ],
      "metadata": {
        "colab": {
          "base_uri": "https://localhost:8080/"
        },
        "id": "5i_cULo172y1",
        "outputId": "252dfbae-5b7e-4134-b46f-bbf37844a6b5"
      },
      "execution_count": 46,
      "outputs": [
        {
          "output_type": "execute_result",
          "data": {
            "text/plain": [
              "3"
            ]
          },
          "metadata": {},
          "execution_count": 46
        }
      ]
    },
    {
      "cell_type": "code",
      "source": [
        "#create a tensor similar to image\n",
        "random_image_size = torch.rand(size = (224,224,3))#height,width , color- R,G,B"
      ],
      "metadata": {
        "id": "39XGF1rr78t9"
      },
      "execution_count": 47,
      "outputs": []
    },
    {
      "cell_type": "code",
      "source": [
        "random_image_size.shape,random_image_size.ndim"
      ],
      "metadata": {
        "colab": {
          "base_uri": "https://localhost:8080/"
        },
        "id": "a4NzD73V8_Bk",
        "outputId": "858e663d-f745-4cf2-862e-4ec21f02fcad"
      },
      "execution_count": 48,
      "outputs": [
        {
          "output_type": "execute_result",
          "data": {
            "text/plain": [
              "(torch.Size([224, 224, 3]), 3)"
            ]
          },
          "metadata": {},
          "execution_count": 48
        }
      ]
    },
    {
      "cell_type": "code",
      "source": [
        "###Challendge to create  a random tensor of whatever size i want\n",
        "random2 = torch.rand(3,4,5)\n",
        "print(random2)"
      ],
      "metadata": {
        "colab": {
          "base_uri": "https://localhost:8080/"
        },
        "id": "H86PsOJY9F2c",
        "outputId": "b5919081-cf68-46b0-ef62-b611b6087f78"
      },
      "execution_count": 51,
      "outputs": [
        {
          "output_type": "stream",
          "name": "stdout",
          "text": [
            "tensor([[[0.6687, 0.4361, 0.4205, 0.2925, 0.4159],\n",
            "         [0.8010, 0.1756, 0.3458, 0.4894, 0.7189],\n",
            "         [0.2979, 0.3078, 0.1866, 0.1885, 0.5297],\n",
            "         [0.4865, 0.7046, 0.6529, 0.2030, 0.4695]],\n",
            "\n",
            "        [[0.5730, 0.8310, 0.9525, 0.3669, 0.6619],\n",
            "         [0.5970, 0.4018, 0.3150, 0.4710, 0.5546],\n",
            "         [0.1982, 0.3231, 0.0782, 0.7744, 0.9815],\n",
            "         [0.9513, 0.4712, 0.2986, 0.0681, 0.8506]],\n",
            "\n",
            "        [[0.1827, 0.3071, 0.4585, 0.1478, 0.3193],\n",
            "         [0.8654, 0.0283, 0.4226, 0.5043, 0.0382],\n",
            "         [0.7920, 0.2961, 0.6270, 0.5146, 0.4149],\n",
            "         [0.3429, 0.2001, 0.4620, 0.0121, 0.3064]]])\n"
          ]
        }
      ]
    },
    {
      "cell_type": "markdown",
      "source": [],
      "metadata": {
        "id": "tju4XAKZ9XGb"
      }
    },
    {
      "cell_type": "code",
      "source": [
        "##Tenor with all zeros\n",
        "zeros = torch.zeros(3,4)\n",
        "zeros"
      ],
      "metadata": {
        "colab": {
          "base_uri": "https://localhost:8080/"
        },
        "id": "qJke6DO29uDr",
        "outputId": "d5a1349a-f6e4-4ec5-f429-03d3b94f354c"
      },
      "execution_count": 53,
      "outputs": [
        {
          "output_type": "execute_result",
          "data": {
            "text/plain": [
              "tensor([[0., 0., 0., 0.],\n",
              "        [0., 0., 0., 0.],\n",
              "        [0., 0., 0., 0.]])"
            ]
          },
          "metadata": {},
          "execution_count": 53
        }
      ]
    },
    {
      "cell_type": "code",
      "source": [
        "##Tenor with all zeros\n",
        "ones = torch.ones(3,4)\n",
        "ones"
      ],
      "metadata": {
        "colab": {
          "base_uri": "https://localhost:8080/"
        },
        "id": "0XRS-mHC96pH",
        "outputId": "4b416c92-619a-4e8c-f5d7-babf4c2ae1b0"
      },
      "execution_count": 54,
      "outputs": [
        {
          "output_type": "execute_result",
          "data": {
            "text/plain": [
              "tensor([[1., 1., 1., 1.],\n",
              "        [1., 1., 1., 1.],\n",
              "        [1., 1., 1., 1.]])"
            ]
          },
          "metadata": {},
          "execution_count": 54
        }
      ]
    },
    {
      "cell_type": "code",
      "source": [
        "##Creating a range of tensors\n",
        "one_to_ten = torch.range(0,10)\n"
      ],
      "metadata": {
        "colab": {
          "base_uri": "https://localhost:8080/"
        },
        "id": "lwtcGeqA90X5",
        "outputId": "841f3704-3f6b-49c8-a18d-e0d0355aece3"
      },
      "execution_count": 60,
      "outputs": [
        {
          "output_type": "stream",
          "name": "stderr",
          "text": [
            "<ipython-input-60-0b3448c42b8c>:2: UserWarning: torch.range is deprecated and will be removed in a future release because its behavior is inconsistent with Python's range builtin. Instead, use torch.arange, which produces values in [start, end).\n",
            "  one_to_ten = torch.range(0,10)\n"
          ]
        }
      ]
    },
    {
      "cell_type": "code",
      "source": [
        "torch.arange(0,10)"
      ],
      "metadata": {
        "colab": {
          "base_uri": "https://localhost:8080/"
        },
        "id": "rCm1dRbr-gWX",
        "outputId": "5e578369-6188-419d-a187-d8652d0a7442"
      },
      "execution_count": 59,
      "outputs": [
        {
          "output_type": "execute_result",
          "data": {
            "text/plain": [
              "tensor([0, 1, 2, 3, 4, 5, 6, 7, 8, 9])"
            ]
          },
          "metadata": {},
          "execution_count": 59
        }
      ]
    },
    {
      "cell_type": "code",
      "source": [
        "one_to_ten"
      ],
      "metadata": {
        "colab": {
          "base_uri": "https://localhost:8080/"
        },
        "id": "O0_7thxs-ldV",
        "outputId": "f2c18908-faee-46f5-d571-263ecdb9cb30"
      },
      "execution_count": 61,
      "outputs": [
        {
          "output_type": "execute_result",
          "data": {
            "text/plain": [
              "tensor([ 0.,  1.,  2.,  3.,  4.,  5.,  6.,  7.,  8.,  9., 10.])"
            ]
          },
          "metadata": {},
          "execution_count": 61
        }
      ]
    },
    {
      "cell_type": "code",
      "source": [
        "one_to_thous = torch.arange(0,end=1000, step = 77)\n",
        "one_to_thous"
      ],
      "metadata": {
        "colab": {
          "base_uri": "https://localhost:8080/"
        },
        "id": "vObvIx0M-uC6",
        "outputId": "692facfc-86b7-4cde-a632-095b63462f1c"
      },
      "execution_count": 65,
      "outputs": [
        {
          "output_type": "execute_result",
          "data": {
            "text/plain": [
              "tensor([  0,  77, 154, 231, 308, 385, 462, 539, 616, 693, 770, 847, 924])"
            ]
          },
          "metadata": {},
          "execution_count": 65
        }
      ]
    },
    {
      "cell_type": "markdown",
      "source": [
        "###Tensor Datatype"
      ],
      "metadata": {
        "id": "ps1Pu7b8BFk2"
      }
    },
    {
      "cell_type": "code",
      "source": [
        "###Tensor Datatype\n",
        "# Default datatype for tensors is float32\n",
        "float_32_tensor = torch.tensor([3.0, 6.0, 9.0],\n",
        "                               dtype=None, # defaults to None, which is torch.float32 or whatever datatype is passed\n",
        "                               device=None, # defaults to None, which uses the default tensor type\n",
        "                               requires_grad=False) # if True, operations performed on the tensor are recorded\n",
        "\n",
        "float_32_tensor.shape\n",
        "float_32_tensor.dtype\n",
        "float_32_tensor.device"
      ],
      "metadata": {
        "colab": {
          "base_uri": "https://localhost:8080/"
        },
        "id": "7UphcG__-_Ph",
        "outputId": "a97ecf0b-b1ea-4574-a1ee-677da0d7001a"
      },
      "execution_count": 70,
      "outputs": [
        {
          "output_type": "execute_result",
          "data": {
            "text/plain": [
              "device(type='cpu')"
            ]
          },
          "metadata": {},
          "execution_count": 70
        }
      ]
    },
    {
      "cell_type": "markdown",
      "source": [],
      "metadata": {
        "id": "2kNFtYhUBCM8"
      }
    },
    {
      "cell_type": "code",
      "source": [
        "float_16_tensor = torch.tensor([3.0, 6.0, 9.0],\n",
        "                               dtype=torch.float16) # torch.half would also work\n",
        "\n",
        "float_16_tensor.dtype"
      ],
      "metadata": {
        "colab": {
          "base_uri": "https://localhost:8080/"
        },
        "id": "_PzeVRFnBzvP",
        "outputId": "6beaf976-a272-4600-f5af-13e9d355005a"
      },
      "execution_count": 71,
      "outputs": [
        {
          "output_type": "execute_result",
          "data": {
            "text/plain": [
              "torch.float16"
            ]
          },
          "metadata": {},
          "execution_count": 71
        }
      ]
    },
    {
      "cell_type": "code",
      "source": [
        "##Getting info for tensor\n",
        "# Create a tensor\n",
        "some_tensor = torch.rand(3, 4)\n",
        "\n",
        "# Find out details about it\n",
        "print(some_tensor)\n",
        "print(f\"Shape of tensor: {some_tensor.shape}\")\n",
        "print(f\"Datatype of tensor: {some_tensor.dtype}\")\n",
        "print(f\"Device tensor is stored on: {some_tensor.device}\") # will default to CPU"
      ],
      "metadata": {
        "colab": {
          "base_uri": "https://localhost:8080/"
        },
        "id": "A_R-uwB3B3MC",
        "outputId": "1347e7ee-324a-465b-fe40-acdb77d79b19"
      },
      "execution_count": 72,
      "outputs": [
        {
          "output_type": "stream",
          "name": "stdout",
          "text": [
            "tensor([[0.2690, 0.9736, 0.2029, 0.3512],\n",
            "        [0.9403, 0.0751, 0.6709, 0.1265],\n",
            "        [0.3862, 0.7378, 0.5485, 0.0887]])\n",
            "Shape of tensor: torch.Size([3, 4])\n",
            "Datatype of tensor: torch.float32\n",
            "Device tensor is stored on: cpu\n"
          ]
        }
      ]
    },
    {
      "cell_type": "code",
      "source": [
        "###Manipulating Tensors(tensor operations)"
      ],
      "metadata": {
        "id": "AB7gHQ_VC5_R"
      },
      "execution_count": 73,
      "outputs": []
    },
    {
      "cell_type": "code",
      "source": [
        "tensor = torch.tensor([1,2,3])\n",
        "tensor\n"
      ],
      "metadata": {
        "colab": {
          "base_uri": "https://localhost:8080/"
        },
        "id": "UhPaZoVKDxWc",
        "outputId": "7cec5fa4-1450-4579-d119-6cb71ee905ef"
      },
      "execution_count": 77,
      "outputs": [
        {
          "output_type": "execute_result",
          "data": {
            "text/plain": [
              "tensor([10, 20, 30])"
            ]
          },
          "metadata": {},
          "execution_count": 77
        }
      ]
    },
    {
      "cell_type": "code",
      "source": [
        "tensor + 12\n"
      ],
      "metadata": {
        "colab": {
          "base_uri": "https://localhost:8080/"
        },
        "id": "xOC6xivkG7cB",
        "outputId": "078d4db4-c386-42ba-89bb-b6486a9ee4cc"
      },
      "execution_count": 78,
      "outputs": [
        {
          "output_type": "execute_result",
          "data": {
            "text/plain": [
              "tensor([13, 14, 15])"
            ]
          },
          "metadata": {},
          "execution_count": 78
        }
      ]
    },
    {
      "cell_type": "code",
      "source": [
        "tensor*10"
      ],
      "metadata": {
        "colab": {
          "base_uri": "https://localhost:8080/"
        },
        "id": "C3f1frgVHG8c",
        "outputId": "e03600a7-e5cf-407f-d221-552f820d3286"
      },
      "execution_count": 79,
      "outputs": [
        {
          "output_type": "execute_result",
          "data": {
            "text/plain": [
              "tensor([10, 20, 30])"
            ]
          },
          "metadata": {},
          "execution_count": 79
        }
      ]
    },
    {
      "cell_type": "code",
      "source": [
        "tensor-10"
      ],
      "metadata": {
        "colab": {
          "base_uri": "https://localhost:8080/"
        },
        "id": "JNPkjLjhHHW2",
        "outputId": "b3753040-6bde-45a7-d289-49e0bac5e3f9"
      },
      "execution_count": 80,
      "outputs": [
        {
          "output_type": "execute_result",
          "data": {
            "text/plain": [
              "tensor([-9, -8, -7])"
            ]
          },
          "metadata": {},
          "execution_count": 80
        }
      ]
    },
    {
      "cell_type": "code",
      "source": [
        "#Try out in built function\n",
        "torch.mul(tensor,10)"
      ],
      "metadata": {
        "colab": {
          "base_uri": "https://localhost:8080/"
        },
        "id": "jIQk_HHBHJqc",
        "outputId": "632861ee-4ed3-4a0c-e345-ccbaf2fe1144"
      },
      "execution_count": 82,
      "outputs": [
        {
          "output_type": "execute_result",
          "data": {
            "text/plain": [
              "tensor([10, 20, 30])"
            ]
          },
          "metadata": {},
          "execution_count": 82
        }
      ]
    },
    {
      "cell_type": "code",
      "source": [
        "torch.add(tensor,10)"
      ],
      "metadata": {
        "colab": {
          "base_uri": "https://localhost:8080/"
        },
        "id": "fxtmD2ENHRIj",
        "outputId": "e803f8ef-7f52-49cc-f9f0-b0ee18365eea"
      },
      "execution_count": 83,
      "outputs": [
        {
          "output_type": "execute_result",
          "data": {
            "text/plain": [
              "tensor([11, 12, 13])"
            ]
          },
          "metadata": {},
          "execution_count": 83
        }
      ]
    },
    {
      "cell_type": "markdown",
      "source": [
        "###Matrix multiplication\n",
        "Two main ways of multiplication\n",
        "1.Element wise\n",
        "2.Matrix Multiplication(dot product -> symbol .)\n"
      ],
      "metadata": {
        "id": "XM1snLadHdSS"
      }
    },
    {
      "cell_type": "code",
      "source": [
        "##Element wise multiplication\n",
        "print(tensor,'*',tensor)\n",
        "print(f\"Equals :{tensor*tensor}\")\n"
      ],
      "metadata": {
        "colab": {
          "base_uri": "https://localhost:8080/"
        },
        "id": "dEvjAhbCHX3F",
        "outputId": "832f41ac-56cc-485c-c76f-42bcd5499f6b"
      },
      "execution_count": 85,
      "outputs": [
        {
          "output_type": "stream",
          "name": "stdout",
          "text": [
            "tensor([1, 2, 3]) * tensor([1, 2, 3])\n",
            "Equals :tensor([1, 4, 9])\n"
          ]
        }
      ]
    },
    {
      "cell_type": "code",
      "source": [
        "##Matrixmultiplication-> Matmul\n",
        "print(torch.matmul(tensor,tensor))"
      ],
      "metadata": {
        "colab": {
          "base_uri": "https://localhost:8080/"
        },
        "id": "9OulhhIXJGy9",
        "outputId": "bd60bc98-bd57-402d-c5b8-aa53b37e663e"
      },
      "execution_count": 86,
      "outputs": [
        {
          "output_type": "stream",
          "name": "stdout",
          "text": [
            "tensor(14)\n"
          ]
        }
      ]
    },
    {
      "cell_type": "code",
      "source": [
        "##by hand\n",
        "value =0\n",
        "for i in range(len(tensor)):\n",
        "  value += tensor[i]* tensor[i]\n",
        "print(value)"
      ],
      "metadata": {
        "colab": {
          "base_uri": "https://localhost:8080/"
        },
        "id": "bfL37Lb8JgVA",
        "outputId": "8539705a-80df-4c17-8247-a032c0fa5611"
      },
      "execution_count": 88,
      "outputs": [
        {
          "output_type": "stream",
          "name": "stdout",
          "text": [
            "tensor(14)\n"
          ]
        }
      ]
    },
    {
      "cell_type": "code",
      "source": [
        "torch.matmul(torch.rand(3,2), torch.rand(2,3))"
      ],
      "metadata": {
        "colab": {
          "base_uri": "https://localhost:8080/"
        },
        "id": "pTqsEFcHJzdH",
        "outputId": "2d2bf678-ce07-48ea-8ca9-d18da4c60296"
      },
      "execution_count": 91,
      "outputs": [
        {
          "output_type": "execute_result",
          "data": {
            "text/plain": [
              "tensor([[0.4400, 1.5678, 0.8176],\n",
              "        [0.3360, 1.2971, 0.5741],\n",
              "        [0.2173, 0.7098, 0.4361]])"
            ]
          },
          "metadata": {},
          "execution_count": 91
        }
      ]
    },
    {
      "cell_type": "code",
      "source": [
        "tensor1 = torch.rand(3,2)\n",
        "\n",
        "transpose = tensor1.T\n",
        "tensor1"
      ],
      "metadata": {
        "colab": {
          "base_uri": "https://localhost:8080/"
        },
        "id": "NQ6RbugAMngI",
        "outputId": "3d342898-48bf-4c60-ee8e-5a663e56b02b"
      },
      "execution_count": 97,
      "outputs": [
        {
          "output_type": "execute_result",
          "data": {
            "text/plain": [
              "tensor([[0.6139, 0.8211],\n",
              "        [0.2100, 0.9037],\n",
              "        [0.7634, 0.8895]])"
            ]
          },
          "metadata": {},
          "execution_count": 97
        }
      ]
    },
    {
      "cell_type": "code",
      "source": [
        "transpose"
      ],
      "metadata": {
        "colab": {
          "base_uri": "https://localhost:8080/"
        },
        "id": "ALXyhjygMUoX",
        "outputId": "25b52e4e-38ce-464e-e649-5e9dd1fa282f"
      },
      "execution_count": 98,
      "outputs": [
        {
          "output_type": "execute_result",
          "data": {
            "text/plain": [
              "tensor([[0.6139, 0.2100, 0.7634],\n",
              "        [0.8211, 0.9037, 0.8895]])"
            ]
          },
          "metadata": {},
          "execution_count": 98
        }
      ]
    },
    {
      "cell_type": "markdown",
      "source": [
        "##Indexing with PyTorch is similar to indexing in NumPy\n"
      ],
      "metadata": {
        "id": "e00AL6lPR4EY"
      }
    },
    {
      "cell_type": "code",
      "source": [
        "x = torch.arange(1,10).reshape(1,3,3)\n",
        "x"
      ],
      "metadata": {
        "colab": {
          "base_uri": "https://localhost:8080/"
        },
        "id": "trLsERhwSD92",
        "outputId": "1170610e-8555-460d-da8b-9f0a8c82cc93"
      },
      "execution_count": 106,
      "outputs": [
        {
          "output_type": "execute_result",
          "data": {
            "text/plain": [
              "tensor([[[1, 2, 3],\n",
              "         [4, 5, 6],\n",
              "         [7, 8, 9]]])"
            ]
          },
          "metadata": {},
          "execution_count": 106
        }
      ]
    },
    {
      "cell_type": "code",
      "source": [
        "x[0]"
      ],
      "metadata": {
        "colab": {
          "base_uri": "https://localhost:8080/"
        },
        "id": "L7ZLF73KSICY",
        "outputId": "353d753e-cdc4-4fc0-f0e0-4fea57d3bcc1"
      },
      "execution_count": 107,
      "outputs": [
        {
          "output_type": "execute_result",
          "data": {
            "text/plain": [
              "tensor([[1, 2, 3],\n",
              "        [4, 5, 6],\n",
              "        [7, 8, 9]])"
            ]
          },
          "metadata": {},
          "execution_count": 107
        }
      ]
    },
    {
      "cell_type": "code",
      "source": [
        "x[0][0]\n"
      ],
      "metadata": {
        "colab": {
          "base_uri": "https://localhost:8080/"
        },
        "id": "ZGVKgDqOSQgJ",
        "outputId": "bd6736dc-c9b2-48da-8280-e36b092d50cc"
      },
      "execution_count": 108,
      "outputs": [
        {
          "output_type": "execute_result",
          "data": {
            "text/plain": [
              "tensor([1, 2, 3])"
            ]
          },
          "metadata": {},
          "execution_count": 108
        }
      ]
    },
    {
      "cell_type": "code",
      "source": [
        "print(x[::2])"
      ],
      "metadata": {
        "colab": {
          "base_uri": "https://localhost:8080/"
        },
        "id": "rFIN3VHESRwR",
        "outputId": "414edfff-6e12-42ff-c794-66ad9d4fb292"
      },
      "execution_count": 109,
      "outputs": [
        {
          "output_type": "stream",
          "name": "stdout",
          "text": [
            "tensor([[[1, 2, 3],\n",
            "         [4, 5, 6],\n",
            "         [7, 8, 9]]])\n"
          ]
        }
      ]
    },
    {
      "cell_type": "markdown",
      "source": [
        "###Numpy -> scientific python numerical lib in pytorch\n",
        "and becasue of this pytorch have the functionality to interact\n",
        "Sometimes you'll want to select specific data from tensors (for example, only the first column or second row).\n",
        "\n",
        "To do so, you can use indexing.\n",
        "\n",
        "If you've ever done indexing on Python lists or NumPy arrays, indexing in PyTorch with tensors is very similar."
      ],
      "metadata": {
        "id": "2OGzgse9S1iv"
      }
    },
    {
      "cell_type": "markdown",
      "source": [
        "###The two main methods you'll want to use for NumPy to PyTorch (and back again) are:\n",
        "\n",
        "torch.from_numpy(ndarray) - NumPy array -> PyTorch tensor.\n",
        "torch.Tensor.numpy() - PyTorch tensor -> NumPy array.\n"
      ],
      "metadata": {
        "id": "uOszhFAiTlef"
      }
    },
    {
      "cell_type": "code",
      "source": [
        "# NumPy array to tensor\n",
        "import torch\n",
        "import numpy as np\n",
        "array = np.arange(1.0, 8.0)\n",
        "tensor = torch.from_numpy(array) #by default, NumPy arrays are created with the datatype float64 and if you convert it to a PyTorch tensor, it'll keep the same datatype (as above).\n",
        "array, tensor"
      ],
      "metadata": {
        "colab": {
          "base_uri": "https://localhost:8080/"
        },
        "id": "CQHHabQDSyOr",
        "outputId": "751d5bbb-a61a-4ac1-fe08-9cd21b03fff0"
      },
      "execution_count": 111,
      "outputs": [
        {
          "output_type": "execute_result",
          "data": {
            "text/plain": [
              "(array([1., 2., 3., 4., 5., 6., 7.]),\n",
              " tensor([1., 2., 3., 4., 5., 6., 7.], dtype=torch.float64))"
            ]
          },
          "metadata": {},
          "execution_count": 111
        }
      ]
    },
    {
      "cell_type": "markdown",
      "source": [
        "So if you want to convert your NumPy array (float64) -> PyTorch tensor (float64) -> PyTorch tensor (float32), you can use tensor = torch.from_numpy(array).type(torch.float32).\n",
        "\n"
      ],
      "metadata": {
        "id": "8XXxPYovVLgn"
      }
    },
    {
      "cell_type": "markdown",
      "source": [],
      "metadata": {
        "id": "PTXEYhTNVKSB"
      }
    },
    {
      "cell_type": "code",
      "source": [
        "# Change the array, keep the tensor\n",
        "array = array + 1\n",
        "array, tensor"
      ],
      "metadata": {
        "colab": {
          "base_uri": "https://localhost:8080/"
        },
        "id": "T1Q3WcL8VNBw",
        "outputId": "e632379f-dc7c-4760-ea0f-57bef75a272d"
      },
      "execution_count": 112,
      "outputs": [
        {
          "output_type": "execute_result",
          "data": {
            "text/plain": [
              "(array([2., 3., 4., 5., 6., 7., 8.]),\n",
              " tensor([1., 2., 3., 4., 5., 6., 7.], dtype=torch.float64))"
            ]
          },
          "metadata": {},
          "execution_count": 112
        }
      ]
    },
    {
      "cell_type": "code",
      "source": [
        "# Tensor to NumPy array\n",
        "tensor = torch.ones(7) # create a tensor of ones with dtype=float32\n",
        "numpy_tensor = tensor.numpy() # will be dtype=float32 unless changed\n",
        "tensor, numpy_tensor"
      ],
      "metadata": {
        "colab": {
          "base_uri": "https://localhost:8080/"
        },
        "id": "aIZMZm5ZVVmK",
        "outputId": "cb194417-1dd3-4106-953d-4364d084d489"
      },
      "execution_count": 114,
      "outputs": [
        {
          "output_type": "execute_result",
          "data": {
            "text/plain": [
              "(tensor([1., 1., 1., 1., 1., 1., 1.]),\n",
              " array([1., 1., 1., 1., 1., 1., 1.], dtype=float32))"
            ]
          },
          "metadata": {},
          "execution_count": 114
        }
      ]
    },
    {
      "cell_type": "code",
      "source": [
        "# Change the tensor, keep the array the same\n",
        "tensor = tensor + 1\n",
        "tensor, numpy_tensor"
      ],
      "metadata": {
        "colab": {
          "base_uri": "https://localhost:8080/"
        },
        "id": "OZdbq057VaJE",
        "outputId": "dffd13e5-8f48-49b5-b8c3-960de7d9e3b6"
      },
      "execution_count": 115,
      "outputs": [
        {
          "output_type": "execute_result",
          "data": {
            "text/plain": [
              "(tensor([2., 2., 2., 2., 2., 2., 2.]),\n",
              " array([1., 1., 1., 1., 1., 1., 1.], dtype=float32))"
            ]
          },
          "metadata": {},
          "execution_count": 115
        }
      ]
    },
    {
      "cell_type": "code",
      "source": [
        "import torch\n",
        "\n",
        "# Create two random tensors\n",
        "random_tensor_A = torch.rand(3, 4)\n",
        "random_tensor_B = torch.rand(3, 4)\n",
        "\n",
        "print(f\"Tensor A:\\n{random_tensor_A}\\n\")\n",
        "print(f\"Tensor B:\\n{random_tensor_B}\\n\")\n",
        "print(f\"Does Tensor A equal Tensor B? (anywhere)\")\n",
        "random_tensor_A == random_tensor_B"
      ],
      "metadata": {
        "colab": {
          "base_uri": "https://localhost:8080/"
        },
        "id": "yD31kz3LVkDd",
        "outputId": "0afb42d0-8dd1-457a-eb2d-4347ecd5e869"
      },
      "execution_count": 116,
      "outputs": [
        {
          "output_type": "stream",
          "name": "stdout",
          "text": [
            "Tensor A:\n",
            "tensor([[0.2358, 0.8161, 0.0662, 0.1938],\n",
            "        [0.1587, 0.3040, 0.4956, 0.1321],\n",
            "        [0.7199, 0.1944, 0.6644, 0.3972]])\n",
            "\n",
            "Tensor B:\n",
            "tensor([[0.6605, 0.3604, 0.2165, 0.7110],\n",
            "        [0.9666, 0.5255, 0.9754, 0.3808],\n",
            "        [0.3937, 0.9992, 0.0227, 0.7814]])\n",
            "\n",
            "Does Tensor A equal Tensor B? (anywhere)\n"
          ]
        },
        {
          "output_type": "execute_result",
          "data": {
            "text/plain": [
              "tensor([[False, False, False, False],\n",
              "        [False, False, False, False],\n",
              "        [False, False, False, False]])"
            ]
          },
          "metadata": {},
          "execution_count": 116
        }
      ]
    },
    {
      "cell_type": "code",
      "source": [
        "# Check for Apple Silicon GPU\n",
        "import torch\n",
        "torch.backends.mps.is_available() # Note this will print false if you're not running on a Mac"
      ],
      "metadata": {
        "colab": {
          "base_uri": "https://localhost:8080/"
        },
        "id": "ui0STq9HVvnk",
        "outputId": "96e47c56-5503-402e-e64d-56229432fe42"
      },
      "execution_count": 117,
      "outputs": [
        {
          "output_type": "execute_result",
          "data": {
            "text/plain": [
              "False"
            ]
          },
          "metadata": {},
          "execution_count": 117
        }
      ]
    },
    {
      "cell_type": "code",
      "source": [
        "# Set device type\n",
        "device = \"mps\" if torch.backends.mps.is_available() else \"cpu\"\n",
        "device"
      ],
      "metadata": {
        "colab": {
          "base_uri": "https://localhost:8080/",
          "height": 35
        },
        "id": "PvYcQzY-VyiS",
        "outputId": "de3792cb-6826-4ba6-cf8d-337efe74e290"
      },
      "execution_count": 118,
      "outputs": [
        {
          "output_type": "execute_result",
          "data": {
            "text/plain": [
              "'cpu'"
            ],
            "application/vnd.google.colaboratory.intrinsic+json": {
              "type": "string"
            }
          },
          "metadata": {},
          "execution_count": 118
        }
      ]
    },
    {
      "cell_type": "code",
      "source": [
        "if torch.cuda.is_available():\n",
        "    device = \"cuda\" # Use NVIDIA GPU (if available)\n",
        "elif torch.backends.mps.is_available():\n",
        "    device = \"mps\" # Use Apple Silicon GPU (if available)\n",
        "else:\n",
        "    device = \"cpu\" # Default to CPU if no GPU is available"
      ],
      "metadata": {
        "id": "9X32YtTIV1dy"
      },
      "execution_count": 120,
      "outputs": []
    },
    {
      "cell_type": "code",
      "source": [
        "# Create tensor (default on CPU)\n",
        "tensor = torch.tensor([1, 2, 3])\n",
        "\n",
        "# Tensor not on GPU\n",
        "print(tensor, tensor.device)\n",
        "\n",
        "# Move tensor to GPU (if available)\n",
        "tensor_on_gpu = tensor.to(device)\n",
        "tensor_on_gpu"
      ],
      "metadata": {
        "colab": {
          "base_uri": "https://localhost:8080/"
        },
        "id": "85OTBlFLV5Ki",
        "outputId": "e36a4bdd-2c83-4e22-c88f-302f73ece762"
      },
      "execution_count": 121,
      "outputs": [
        {
          "output_type": "stream",
          "name": "stdout",
          "text": [
            "tensor([1, 2, 3]) cpu\n"
          ]
        },
        {
          "output_type": "execute_result",
          "data": {
            "text/plain": [
              "tensor([1, 2, 3])"
            ]
          },
          "metadata": {},
          "execution_count": 121
        }
      ]
    },
    {
      "cell_type": "code",
      "source": [],
      "metadata": {
        "id": "lRvTwT8KV5tq"
      },
      "execution_count": null,
      "outputs": []
    }
  ]
}